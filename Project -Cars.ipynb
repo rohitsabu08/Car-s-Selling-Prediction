{
 "cells": [
  {
   "cell_type": "markdown",
   "metadata": {},
   "source": [
    "## The Car Price Prediction Problem"
   ]
  },
  {
   "cell_type": "markdown",
   "metadata": {},
   "source": [
    "Problem statement:  \n",
    "\n",
    "A dataset that records the selling prices of 8,128 cars in India is given. The prices are recorded along with some other attributes like - kilometer driven,year,selling_price,fuel,seller_type,transmission and Owner details.\n",
    "\n",
    "Objective: Following tasks are performed: EDA, Initial model fitting step ,Feature engineering ,Model fitting after feauture engineering. Experiment and check if a decision tree model can be used to fit the data mode accurately and perform Model testing.\n"
   ]
  },
  {
   "cell_type": "code",
   "execution_count": 54,
   "metadata": {},
   "outputs": [],
   "source": [
    "#Importing all the required libraries:\n",
    "\n",
    "import numpy as np\n",
    "import pandas as pd\n",
    "import seaborn as sns\n",
    "import matplotlib.pyplot as plt\n",
    "from sklearn.model_selection import train_test_split\n",
    "from sklearn.preprocessing import StandardScaler\n",
    "from sklearn.linear_model import LinearRegression\n",
    "from sklearn.metrics import r2_score, mean_absolute_error\n",
    "from sklearn.tree import DecisionTreeRegressor\n",
    "from sklearn.metrics import explained_variance_score\n",
    "from sklearn.metrics import confusion_matrix\n",
    "from sklearn.metrics import mean_squared_error\n",
    "# Import label encoder\n",
    "from sklearn import preprocessing\n",
    "# label_encoder object knows how to understand word labels.\n",
    "label_encoder = preprocessing.LabelEncoder()\n",
    "from statsmodels.stats.outliers_influence import variance_inflation_factor\n",
    "scaler = StandardScaler()\n",
    "from pandas import DataFrame\n",
    "import statsmodels.api as stm\n",
    "from sklearn.model_selection import cross_val_score\n",
    "from sklearn.model_selection import KFold\n",
    "from mlxtend.feature_selection import SequentialFeatureSelector as SFS\n",
    "import warnings\n",
    "warnings.simplefilter(\"ignore\")"
   ]
  },
  {
   "cell_type": "code",
   "execution_count": 55,
   "metadata": {},
   "outputs": [
    {
     "data": {
      "text/plain": [
       "(8128, 12)"
      ]
     },
     "execution_count": 55,
     "metadata": {},
     "output_type": "execute_result"
    }
   ],
   "source": [
    "# Reading the dataset:\n",
    "dataset= pd.read_csv(\"cars.csv\")\n",
    "#number of rows and columns\n",
    "dataset.shape"
   ]
  },
  {
   "cell_type": "code",
   "execution_count": 56,
   "metadata": {},
   "outputs": [
    {
     "name": "stdout",
     "output_type": "stream",
     "text": [
      "Size of train data : 5197\n",
      "Size of valid data : 1467\n",
      "Size of test data : 1464\n"
     ]
    }
   ],
   "source": [
    "# split into train , validation and  test sets\n",
    "data,test = train_test_split(dataset, test_size=0.18, random_state=4)\n",
    "# split into train test sets\n",
    "train,valid = train_test_split(data, test_size=0.22, random_state=4)\n",
    "cars = df =  train\n",
    "print('Size of train data :' ,len(train))\n",
    "print('Size of valid data :' ,len(valid))\n",
    "print('Size of test data :' ,len(test))"
   ]
  },
  {
   "cell_type": "markdown",
   "metadata": {},
   "source": [
    "### 2. Exploratory data analysis:\n"
   ]
  },
  {
   "cell_type": "code",
   "execution_count": 57,
   "metadata": {},
   "outputs": [
    {
     "name": "stdout",
     "output_type": "stream",
     "text": [
      "<class 'pandas.core.frame.DataFrame'>\n",
      "Int64Index: 5197 entries, 6588 to 7762\n",
      "Data columns (total 12 columns):\n",
      " #   Column         Non-Null Count  Dtype  \n",
      "---  ------         --------------  -----  \n",
      " 0   name           5197 non-null   object \n",
      " 1   year           5197 non-null   int64  \n",
      " 2   selling_price  5197 non-null   int64  \n",
      " 3   km_driven      5197 non-null   int64  \n",
      " 4   fuel           5197 non-null   object \n",
      " 5   seller_type    5197 non-null   object \n",
      " 6   transmission   5197 non-null   object \n",
      " 7   owner          5197 non-null   object \n",
      " 8   mileage        5060 non-null   float64\n",
      " 9   engine         5060 non-null   float64\n",
      " 10  max_power      5060 non-null   float64\n",
      " 11  seats          5060 non-null   float64\n",
      "dtypes: float64(4), int64(3), object(5)\n",
      "memory usage: 527.8+ KB\n"
     ]
    }
   ],
   "source": [
    "#checking if the data has missing values or not.\n",
    "cars.info()   "
   ]
  },
  {
   "cell_type": "markdown",
   "metadata": {},
   "source": [
    "#### Missing values are oberved in the dataset"
   ]
  },
  {
   "cell_type": "code",
   "execution_count": 58,
   "metadata": {
    "scrolled": false
   },
   "outputs": [
    {
     "data": {
      "text/html": [
       "<div>\n",
       "<style scoped>\n",
       "    .dataframe tbody tr th:only-of-type {\n",
       "        vertical-align: middle;\n",
       "    }\n",
       "\n",
       "    .dataframe tbody tr th {\n",
       "        vertical-align: top;\n",
       "    }\n",
       "\n",
       "    .dataframe thead th {\n",
       "        text-align: right;\n",
       "    }\n",
       "</style>\n",
       "<table border=\"1\" class=\"dataframe\">\n",
       "  <thead>\n",
       "    <tr style=\"text-align: right;\">\n",
       "      <th></th>\n",
       "      <th>year</th>\n",
       "      <th>selling_price</th>\n",
       "      <th>km_driven</th>\n",
       "      <th>mileage</th>\n",
       "      <th>engine</th>\n",
       "      <th>max_power</th>\n",
       "      <th>seats</th>\n",
       "    </tr>\n",
       "  </thead>\n",
       "  <tbody>\n",
       "    <tr>\n",
       "      <th>count</th>\n",
       "      <td>5197.000000</td>\n",
       "      <td>5.197000e+03</td>\n",
       "      <td>5.197000e+03</td>\n",
       "      <td>5060.000000</td>\n",
       "      <td>5060.000000</td>\n",
       "      <td>5060.000000</td>\n",
       "      <td>5060.000000</td>\n",
       "    </tr>\n",
       "    <tr>\n",
       "      <th>mean</th>\n",
       "      <td>2013.814508</td>\n",
       "      <td>6.395673e+05</td>\n",
       "      <td>6.991161e+04</td>\n",
       "      <td>19.421875</td>\n",
       "      <td>1458.044862</td>\n",
       "      <td>91.479957</td>\n",
       "      <td>5.414822</td>\n",
       "    </tr>\n",
       "    <tr>\n",
       "      <th>std</th>\n",
       "      <td>4.051753</td>\n",
       "      <td>8.084765e+05</td>\n",
       "      <td>6.150840e+04</td>\n",
       "      <td>4.075922</td>\n",
       "      <td>507.560816</td>\n",
       "      <td>35.916765</td>\n",
       "      <td>0.952757</td>\n",
       "    </tr>\n",
       "    <tr>\n",
       "      <th>min</th>\n",
       "      <td>1994.000000</td>\n",
       "      <td>3.000000e+04</td>\n",
       "      <td>1.000000e+03</td>\n",
       "      <td>0.000000</td>\n",
       "      <td>624.000000</td>\n",
       "      <td>0.000000</td>\n",
       "      <td>2.000000</td>\n",
       "    </tr>\n",
       "    <tr>\n",
       "      <th>25%</th>\n",
       "      <td>2011.000000</td>\n",
       "      <td>2.549990e+05</td>\n",
       "      <td>3.500000e+04</td>\n",
       "      <td>16.780000</td>\n",
       "      <td>1197.000000</td>\n",
       "      <td>68.050000</td>\n",
       "      <td>5.000000</td>\n",
       "    </tr>\n",
       "    <tr>\n",
       "      <th>50%</th>\n",
       "      <td>2015.000000</td>\n",
       "      <td>4.500000e+05</td>\n",
       "      <td>6.000000e+04</td>\n",
       "      <td>19.300000</td>\n",
       "      <td>1248.000000</td>\n",
       "      <td>82.000000</td>\n",
       "      <td>5.000000</td>\n",
       "    </tr>\n",
       "    <tr>\n",
       "      <th>75%</th>\n",
       "      <td>2017.000000</td>\n",
       "      <td>6.800000e+05</td>\n",
       "      <td>9.500000e+04</td>\n",
       "      <td>22.320000</td>\n",
       "      <td>1582.000000</td>\n",
       "      <td>102.000000</td>\n",
       "      <td>5.000000</td>\n",
       "    </tr>\n",
       "    <tr>\n",
       "      <th>max</th>\n",
       "      <td>2020.000000</td>\n",
       "      <td>1.000000e+07</td>\n",
       "      <td>2.360457e+06</td>\n",
       "      <td>42.000000</td>\n",
       "      <td>3604.000000</td>\n",
       "      <td>400.000000</td>\n",
       "      <td>14.000000</td>\n",
       "    </tr>\n",
       "  </tbody>\n",
       "</table>\n",
       "</div>"
      ],
      "text/plain": [
       "              year  selling_price     km_driven      mileage       engine  \\\n",
       "count  5197.000000   5.197000e+03  5.197000e+03  5060.000000  5060.000000   \n",
       "mean   2013.814508   6.395673e+05  6.991161e+04    19.421875  1458.044862   \n",
       "std       4.051753   8.084765e+05  6.150840e+04     4.075922   507.560816   \n",
       "min    1994.000000   3.000000e+04  1.000000e+03     0.000000   624.000000   \n",
       "25%    2011.000000   2.549990e+05  3.500000e+04    16.780000  1197.000000   \n",
       "50%    2015.000000   4.500000e+05  6.000000e+04    19.300000  1248.000000   \n",
       "75%    2017.000000   6.800000e+05  9.500000e+04    22.320000  1582.000000   \n",
       "max    2020.000000   1.000000e+07  2.360457e+06    42.000000  3604.000000   \n",
       "\n",
       "         max_power        seats  \n",
       "count  5060.000000  5060.000000  \n",
       "mean     91.479957     5.414822  \n",
       "std      35.916765     0.952757  \n",
       "min       0.000000     2.000000  \n",
       "25%      68.050000     5.000000  \n",
       "50%      82.000000     5.000000  \n",
       "75%     102.000000     5.000000  \n",
       "max     400.000000    14.000000  "
      ]
     },
     "execution_count": 58,
     "metadata": {},
     "output_type": "execute_result"
    }
   ],
   "source": [
    "# Analysing the CVDOT of the dataset\n",
    "cars.describe()      #describing the dataset statistically"
   ]
  },
  {
   "cell_type": "code",
   "execution_count": 59,
   "metadata": {},
   "outputs": [
    {
     "data": {
      "text/plain": [
       "name             0\n",
       "year             0\n",
       "selling_price    0\n",
       "km_driven        0\n",
       "fuel             0\n",
       "seller_type      0\n",
       "transmission     0\n",
       "owner            0\n",
       "mileage          0\n",
       "engine           0\n",
       "max_power        0\n",
       "seats            0\n",
       "dtype: int64"
      ]
     },
     "execution_count": 59,
     "metadata": {},
     "output_type": "execute_result"
    }
   ],
   "source": [
    "#Removing the missing values\n",
    "cars.dropna(inplace=True)\n",
    "cars = df\n",
    "cars.isnull().sum()"
   ]
  },
  {
   "cell_type": "code",
   "execution_count": 60,
   "metadata": {},
   "outputs": [],
   "source": [
    "# Removing the columns which are ignored: (\"name\",\"year\")\n",
    "cars.drop([\"name\",\"year\"], axis='columns', inplace=True)"
   ]
  },
  {
   "cell_type": "code",
   "execution_count": 61,
   "metadata": {},
   "outputs": [
    {
     "data": {
      "text/html": [
       "<div>\n",
       "<style scoped>\n",
       "    .dataframe tbody tr th:only-of-type {\n",
       "        vertical-align: middle;\n",
       "    }\n",
       "\n",
       "    .dataframe tbody tr th {\n",
       "        vertical-align: top;\n",
       "    }\n",
       "\n",
       "    .dataframe thead th {\n",
       "        text-align: right;\n",
       "    }\n",
       "</style>\n",
       "<table border=\"1\" class=\"dataframe\">\n",
       "  <thead>\n",
       "    <tr style=\"text-align: right;\">\n",
       "      <th></th>\n",
       "      <th>selling_price</th>\n",
       "      <th>km_driven</th>\n",
       "      <th>fuel</th>\n",
       "      <th>seller_type</th>\n",
       "      <th>transmission</th>\n",
       "      <th>owner</th>\n",
       "      <th>mileage</th>\n",
       "      <th>engine</th>\n",
       "      <th>max_power</th>\n",
       "      <th>seats</th>\n",
       "    </tr>\n",
       "  </thead>\n",
       "  <tbody>\n",
       "    <tr>\n",
       "      <th>6588</th>\n",
       "      <td>5500000</td>\n",
       "      <td>8500</td>\n",
       "      <td>Diesel</td>\n",
       "      <td>Dealer</td>\n",
       "      <td>Automatic</td>\n",
       "      <td>First Owner</td>\n",
       "      <td>16.78</td>\n",
       "      <td>1995.0</td>\n",
       "      <td>190.00</td>\n",
       "      <td>5.0</td>\n",
       "    </tr>\n",
       "    <tr>\n",
       "      <th>593</th>\n",
       "      <td>300000</td>\n",
       "      <td>66693</td>\n",
       "      <td>Petrol</td>\n",
       "      <td>Dealer</td>\n",
       "      <td>Manual</td>\n",
       "      <td>First Owner</td>\n",
       "      <td>25.17</td>\n",
       "      <td>799.0</td>\n",
       "      <td>53.30</td>\n",
       "      <td>5.0</td>\n",
       "    </tr>\n",
       "    <tr>\n",
       "      <th>5795</th>\n",
       "      <td>600000</td>\n",
       "      <td>90000</td>\n",
       "      <td>Diesel</td>\n",
       "      <td>Individual</td>\n",
       "      <td>Automatic</td>\n",
       "      <td>First Owner</td>\n",
       "      <td>17.20</td>\n",
       "      <td>1968.0</td>\n",
       "      <td>138.10</td>\n",
       "      <td>5.0</td>\n",
       "    </tr>\n",
       "    <tr>\n",
       "      <th>4300</th>\n",
       "      <td>800000</td>\n",
       "      <td>25000</td>\n",
       "      <td>Petrol</td>\n",
       "      <td>Individual</td>\n",
       "      <td>Manual</td>\n",
       "      <td>First Owner</td>\n",
       "      <td>15.85</td>\n",
       "      <td>1499.0</td>\n",
       "      <td>110.40</td>\n",
       "      <td>5.0</td>\n",
       "    </tr>\n",
       "    <tr>\n",
       "      <th>1304</th>\n",
       "      <td>451000</td>\n",
       "      <td>91000</td>\n",
       "      <td>Diesel</td>\n",
       "      <td>Individual</td>\n",
       "      <td>Manual</td>\n",
       "      <td>First Owner</td>\n",
       "      <td>22.54</td>\n",
       "      <td>1396.0</td>\n",
       "      <td>88.73</td>\n",
       "      <td>5.0</td>\n",
       "    </tr>\n",
       "  </tbody>\n",
       "</table>\n",
       "</div>"
      ],
      "text/plain": [
       "      selling_price  km_driven    fuel seller_type transmission        owner  \\\n",
       "6588        5500000       8500  Diesel      Dealer    Automatic  First Owner   \n",
       "593          300000      66693  Petrol      Dealer       Manual  First Owner   \n",
       "5795         600000      90000  Diesel  Individual    Automatic  First Owner   \n",
       "4300         800000      25000  Petrol  Individual       Manual  First Owner   \n",
       "1304         451000      91000  Diesel  Individual       Manual  First Owner   \n",
       "\n",
       "      mileage  engine  max_power  seats  \n",
       "6588    16.78  1995.0     190.00    5.0  \n",
       "593     25.17   799.0      53.30    5.0  \n",
       "5795    17.20  1968.0     138.10    5.0  \n",
       "4300    15.85  1499.0     110.40    5.0  \n",
       "1304    22.54  1396.0      88.73    5.0  "
      ]
     },
     "execution_count": 61,
     "metadata": {},
     "output_type": "execute_result"
    }
   ],
   "source": [
    "cars.head()  # Veiwing the dataset"
   ]
  },
  {
   "cell_type": "markdown",
   "metadata": {},
   "source": [
    "### EDA and  Data manipulation :"
   ]
  },
  {
   "cell_type": "markdown",
   "metadata": {},
   "source": [
    "#### Univariate analysis "
   ]
  },
  {
   "cell_type": "code",
   "execution_count": 62,
   "metadata": {
    "scrolled": true
   },
   "outputs": [
    {
     "name": "stdout",
     "output_type": "stream",
     "text": [
      "boxplot of km_driven\n"
     ]
    },
    {
     "data": {
      "image/png": "[encoded data removed]",
      "text/plain": [
       "<Figure size 360x144 with 1 Axes>"
      ]
     },
     "metadata": {},
     "output_type": "display_data"
    },
    {
     "name": "stdout",
     "output_type": "stream",
     "text": [
      "boxplot of mileage\n"
     ]
    },
    {
     "data": {
      "image/png": "[encoded data removed]",
      "text/plain": [
       "<Figure size 360x144 with 1 Axes>"
      ]
     },
     "metadata": {},
     "output_type": "display_data"
    },
    {
     "name": "stdout",
     "output_type": "stream",
     "text": [
      "boxplot of engine\n"
     ]
    },
    {
     "data": {
      "image/png": "[encoded data removed]",
      "text/plain": [
       "<Figure size 360x144 with 1 Axes>"
      ]
     },
     "metadata": {},
     "output_type": "display_data"
    },
    {
     "name": "stdout",
     "output_type": "stream",
     "text": [
      "boxplot of max_power\n"
     ]
    },
    {
     "data": {
      "image/png": "[encoded data removed]",
      "text/plain": [
       "<Figure size 360x144 with 1 Axes>"
      ]
     },
     "metadata": {},
     "output_type": "display_data"
    }
   ],
   "source": [
    "#Plotting the barplot to understand the outliers in the features:\n",
    "df_boxplot = cars[['km_driven', 'mileage', 'engine','max_power']]  #Choosing the variables for the analysis\n",
    "for i in df_boxplot.columns:     #using for loop for different variables\n",
    "    plt.figure(figsize=(5,2))    #to plot the figure\n",
    "    print(\"boxplot of %s\" %(i))  #tagging the title\n",
    "    sns.boxplot(x=i, data=cars) #Plotting the box plot\n",
    "    plt.show()"
   ]
  },
  {
   "cell_type": "markdown",
   "metadata": {},
   "source": [
    "Outliers are observed in the feautures of mileage, km driven,max_power. Hence they are to be removed"
   ]
  },
  {
   "cell_type": "code",
   "execution_count": 63,
   "metadata": {},
   "outputs": [],
   "source": [
    "#removing the outlier\n",
    "cars= cars[cars.max_power != max(cars.max_power)] \n",
    "cars= cars[cars.mileage != min(cars.mileage)] \n",
    "cars= cars[cars.mileage != max(cars.mileage)] \n",
    "cars= cars[cars.km_driven != max(cars.km_driven)] \n",
    "cars= cars[cars.km_driven != max(cars.km_driven)] \n",
    "cars= cars[cars.km_driven != min(cars.km_driven)] "
   ]
  },
  {
   "cell_type": "code",
   "execution_count": 64,
   "metadata": {
    "scrolled": true
   },
   "outputs": [
    {
     "name": "stdout",
     "output_type": "stream",
     "text": [
      "boxplot of km_driven\n"
     ]
    },
    {
     "data": {
      "image/png": "[encoded data removed]",
      "text/plain": [
       "<Figure size 360x144 with 1 Axes>"
      ]
     },
     "metadata": {},
     "output_type": "display_data"
    },
    {
     "name": "stdout",
     "output_type": "stream",
     "text": [
      "boxplot of mileage\n"
     ]
    },
    {
     "data": {
      "image/png": "[encoded data removed]",
      "text/plain": [
       "<Figure size 360x144 with 1 Axes>"
      ]
     },
     "metadata": {},
     "output_type": "display_data"
    },
    {
     "name": "stdout",
     "output_type": "stream",
     "text": [
      "boxplot of engine\n"
     ]
    },
    {
     "data": {
      "image/png": "[encoded data removed]",
      "text/plain": [
       "<Figure size 360x144 with 1 Axes>"
      ]
     },
     "metadata": {},
     "output_type": "display_data"
    },
    {
     "name": "stdout",
     "output_type": "stream",
     "text": [
      "boxplot of max_power\n"
     ]
    },
    {
     "data": {
      "image/png": "[encoded data removed]",
      "text/plain": [
       "<Figure size 360x144 with 1 Axes>"
      ]
     },
     "metadata": {},
     "output_type": "display_data"
    }
   ],
   "source": [
    "#Plotting the barplot to understand the outliers in the features:\n",
    "df_boxplot = cars[['km_driven', 'mileage', 'engine','max_power']]  #Choosing the variables for the analysis\n",
    "for i in df_boxplot.columns:     #using for loop for different variables\n",
    "    plt.figure(figsize=(5,2))    #to plot the figure\n",
    "    print(\"boxplot of %s\" %(i))  #tagging the title\n",
    "    sns.boxplot(x=i, data=cars) #Plotting the box plot\n",
    "    plt.show()"
   ]
  },
  {
   "cell_type": "markdown",
   "metadata": {},
   "source": [
    "The outliers are removed from the dataset. \n",
    "\n",
    "Next step is to analyse the sales of cars based on the categorical variables."
   ]
  },
  {
   "cell_type": "code",
   "execution_count": 65,
   "metadata": {
    "scrolled": false
   },
   "outputs": [
    {
     "data": {
      "image/png": "[encoded data removed]",
      "text/plain": [
       "<Figure size 720x144 with 1 Axes>"
      ]
     },
     "metadata": {},
     "output_type": "display_data"
    },
    {
     "data": {
      "image/png": "[encoded data removed]",
      "text/plain": [
       "<Figure size 720x144 with 1 Axes>"
      ]
     },
     "metadata": {},
     "output_type": "display_data"
    },
    {
     "data": {
      "image/png": "[encoded data removed]",
      "text/plain": [
       "<Figure size 720x144 with 1 Axes>"
      ]
     },
     "metadata": {},
     "output_type": "display_data"
    },
    {
     "data": {
      "image/png": "[encoded data removed]",
      "text/plain": [
       "<Figure size 720x144 with 1 Axes>"
      ]
     },
     "metadata": {},
     "output_type": "display_data"
    }
   ],
   "source": [
    "# Understanding the distribution of the no. of cars sold \n",
    "# in the following categories: ['fuel', 'seller_type', 'transmission', 'owner']\n",
    "\n",
    "df_barplot = cars[['fuel', 'seller_type', 'transmission', 'owner']]  #Choosing the variables for the analysis\n",
    "for i in df_barplot.columns:                  #using for loop for different variables\n",
    "    plt.figure(figsize=(10,2))                #to plot the figure\n",
    "    cat_num = cars[i].value_counts()        \n",
    "    sns.barplot(x=cat_num.index, y=cat_num)   #Plotting the bar plot\n",
    "    plt.show()\n"
   ]
  },
  {
   "cell_type": "code",
   "execution_count": 66,
   "metadata": {
    "scrolled": false
   },
   "outputs": [
    {
     "data": {
      "text/plain": [
       "<AxesSubplot:xlabel='selling_price', ylabel='Density'>"
      ]
     },
     "execution_count": 66,
     "metadata": {},
     "output_type": "execute_result"
    },
    {
     "data": {
      "image/png": "[encoded data removed]",
      "text/plain": [
       "<Figure size 432x288 with 1 Axes>"
      ]
     },
     "metadata": {},
     "output_type": "display_data"
    }
   ],
   "source": [
    "# Understyanding the distribution of the price in the dataset:\n",
    "sns.distplot(cars['selling_price'])"
   ]
  },
  {
   "cell_type": "markdown",
   "metadata": {},
   "source": [
    "The prcie of the cars sold are right skewed."
   ]
  },
  {
   "cell_type": "markdown",
   "metadata": {},
   "source": [
    "### Histogram  of the numerical features:"
   ]
  },
  {
   "cell_type": "code",
   "execution_count": 67,
   "metadata": {},
   "outputs": [
    {
     "data": {
      "image/png": "[encoded data removed]",
      "text/plain": [
       "<Figure size 432x288 with 1 Axes>"
      ]
     },
     "metadata": {},
     "output_type": "display_data"
    },
    {
     "data": {
      "image/png": "[encoded data removed]",
      "text/plain": [
       "<Figure size 432x288 with 1 Axes>"
      ]
     },
     "metadata": {},
     "output_type": "display_data"
    },
    {
     "data": {
      "image/png": "[encoded data removed]",
      "text/plain": [
       "<Figure size 432x288 with 1 Axes>"
      ]
     },
     "metadata": {},
     "output_type": "display_data"
    },
    {
     "data": {
      "image/png": "[encoded data removed]",
      "text/plain": [
       "<Figure size 432x288 with 1 Axes>"
      ]
     },
     "metadata": {},
     "output_type": "display_data"
    },
    {
     "data": {
      "image/png": "[encoded data removed]",
      "text/plain": [
       "<Figure size 432x288 with 1 Axes>"
      ]
     },
     "metadata": {},
     "output_type": "display_data"
    }
   ],
   "source": [
    "#Plotting the Histogram to understand the distribution of the variables:\n",
    "cars.hist(column='km_driven',grid=False, figsize=(6,4))\n",
    "cars.hist(column='mileage',grid=False,figsize=(6,4))\n",
    "cars.hist(column='engine',grid=False,figsize=(6,4))\n",
    "cars.hist(column='max_power',grid=False,figsize=(6,4))\n",
    "cars.hist(column='selling_price',grid=False,figsize=(6,4))\n",
    "plt.show()"
   ]
  },
  {
   "cell_type": "markdown",
   "metadata": {},
   "source": [
    "#### Bi-variate analysis"
   ]
  },
  {
   "cell_type": "code",
   "execution_count": 68,
   "metadata": {
    "scrolled": false
   },
   "outputs": [
    {
     "data": {
      "image/png": "[encoded data removed]",
      "text/plain": [
       "<Figure size 1440x720 with 2 Axes>"
      ]
     },
     "metadata": {},
     "output_type": "display_data"
    }
   ],
   "source": [
    "#Using the heatmap from seaborn library to understand the correlation amoung the variables:\n",
    "sns.set()\n",
    "corr = cars.corr()\n",
    "plt.figure(figsize=(20,10))   #initialising the figure size\n",
    "sns.heatmap(corr,annot=True)  #plotting the heat map to determine correlation\n",
    "plt.show()"
   ]
  },
  {
   "cell_type": "markdown",
   "metadata": {},
   "source": [
    "From the above analysis we have decided the choose the following variables for initial model fitting setup which will be altered later during the process of feature engineering.\n",
    "Following are the vaiables:('engine','max_power',\"seats\")"
   ]
  },
  {
   "cell_type": "code",
   "execution_count": 69,
   "metadata": {},
   "outputs": [],
   "source": [
    "## Comparing the plots with each variables:"
   ]
  },
  {
   "cell_type": "code",
   "execution_count": 70,
   "metadata": {},
   "outputs": [
    {
     "data": {
      "image/png": "[encoded data removed]",
      "text/plain": [
       "<Figure size 1008x720 with 25 Axes>"
      ]
     },
     "metadata": {},
     "output_type": "display_data"
    }
   ],
   "source": [
    "from pandas.plotting import scatter_matrix  #importing the function\n",
    "\n",
    "features = ['km_driven','mileage', 'engine','max_power',\"seats\"]\n",
    "scatter_matrix(cars[features], figsize=(14,10),diagonal='hist')\n",
    "plt.show()"
   ]
  },
  {
   "cell_type": "markdown",
   "metadata": {},
   "source": [
    "### 3. Initial model fitting setup \n"
   ]
  },
  {
   "cell_type": "markdown",
   "metadata": {},
   "source": [
    "#### Linear regression Model - 1\n",
    "\n",
    "Using the continuous numerical variables which is chosen based on the EDA process:\n",
    "\n",
    "Set of Predictors : ['km_driven','mileage', 'engine','max_power',\"seats\"]"
   ]
  },
  {
   "cell_type": "code",
   "execution_count": 71,
   "metadata": {},
   "outputs": [],
   "source": [
    "#Assigning the set of target variables and predictors : \n",
    "X = cars[['km_driven','mileage', 'engine','max_power',\"seats\"]]    #Target Variables\n",
    "Y = cars['selling_price']                                                        #Predictrs\n",
    "#Splitting the data set into test and train for the train and validation purpose:\n",
    "X_train, X_test, Y_train, Y_test = train_test_split(X,Y,test_size=0.3, random_state = 7)"
   ]
  },
  {
   "cell_type": "code",
   "execution_count": 72,
   "metadata": {
    "scrolled": true
   },
   "outputs": [
    {
     "name": "stdout",
     "output_type": "stream",
     "text": [
      "The MAE is : 285545.4551922228\n",
      "The R-square is : 0.6507035624346256\n"
     ]
    }
   ],
   "source": [
    "# Standardizing the target variables :\n",
    "std = StandardScaler()                    #Assigning the function\n",
    "X_train_std = std.fit_transform(X_train)  #Standardizing the train set of data \n",
    "X_test_std = std.transform(X_test)        #Standardizing the test set of data \n",
    "lr = LinearRegression()            #Linear regression function assigned to lr\n",
    "lr.fit(X_train_std,Y_train)        #fitting the model\n",
    "Y_pred = lr.predict(X_test_std)    #predicted value\n",
    "\n",
    "\n",
    "#Calculating the mean absolute error:  \n",
    "print(\"The MAE is :\" ,mean_absolute_error(Y_test,Y_pred) ) #Mean absolute error \n",
    "#Calculating the R_square value:\n",
    "print(\"The R-square is :\",r2_score(Y_test,Y_pred))    #R_square value"
   ]
  },
  {
   "cell_type": "markdown",
   "metadata": {},
   "source": [
    "#### 10-fold cross-validation of the chosen set of predictors :"
   ]
  },
  {
   "cell_type": "code",
   "execution_count": 73,
   "metadata": {},
   "outputs": [
    {
     "name": "stdout",
     "output_type": "stream",
     "text": [
      "The average value obtained in 10-fold cross-validation is :  0.603841850767639\n"
     ]
    }
   ],
   "source": [
    "# create a KFold object with 10 splits \n",
    "\n",
    "folds = KFold(n_splits = 10, shuffle = True, random_state = 100)       #Split of the dataset\n",
    "\n",
    "scores = cross_val_score(lr, X_train, Y_train, scoring='r2', cv=folds)  #fitting the Cross validation\n",
    "\n",
    "print(\"The average value obtained in 10-fold cross-validation is : \", np.mean(scores))"
   ]
  },
  {
   "cell_type": "markdown",
   "metadata": {},
   "source": [
    "#### R2 value is : 0.60"
   ]
  },
  {
   "cell_type": "markdown",
   "metadata": {},
   "source": [
    "#### Linear regression Model - 2\n",
    "\n",
    "Using the feautures selected from the correlation matrix plotted:"
   ]
  },
  {
   "cell_type": "code",
   "execution_count": 74,
   "metadata": {},
   "outputs": [],
   "source": [
    "#Assigning the set of target variables and predictors : \n",
    "X = cars[['engine','max_power','seats']]    #Target Variables\n",
    "Y = cars['selling_price']                                                        #Predictors\n",
    "#Splitting the data set into test and train for the train and validation purpose:\n",
    "X_train, X_test, Y_train, Y_test = train_test_split(X,Y,test_size=0.3, random_state = 7)"
   ]
  },
  {
   "cell_type": "code",
   "execution_count": 75,
   "metadata": {},
   "outputs": [
    {
     "name": "stdout",
     "output_type": "stream",
     "text": [
      "The MAE is : 310502.43456848536\n",
      "The R-square is : 0.5987376547132972\n"
     ]
    }
   ],
   "source": [
    "# Standardizing the target variables :\n",
    "std = StandardScaler()                    #Assigning the function\n",
    "X_train_std = std.fit_transform(X_train)  #Standardizing the train set of data \n",
    "X_test_std = std.transform(X_test)        #Standardizing the test set of data \n",
    "lr = LinearRegression()            #Linear regression function assigned to lr\n",
    "lr.fit(X_train_std,Y_train)        #fitting the model\n",
    "Y_pred = lr.predict(X_test_std)    #predicted value\n",
    "\n",
    "\n",
    "#Calculating the mean absolute error:  \n",
    "print(\"The MAE is :\" ,mean_absolute_error(Y_test,Y_pred) ) #Mean absolute error \n",
    "#Calculating the R_square value:\n",
    "print(\"The R-square is :\",r2_score(Y_test,Y_pred))    #R_square value"
   ]
  },
  {
   "cell_type": "markdown",
   "metadata": {},
   "source": [
    "#### 10-fold cross-validation of the chosen set of predictors :"
   ]
  },
  {
   "cell_type": "code",
   "execution_count": 76,
   "metadata": {},
   "outputs": [
    {
     "name": "stdout",
     "output_type": "stream",
     "text": [
      "The average value obtained in 10-fold cross-validation is :  0.5482304831794839\n"
     ]
    }
   ],
   "source": [
    "# create a KFold object with 10 splits \n",
    "\n",
    "folds = KFold(n_splits = 10, shuffle = True, random_state = 100)       #Split of the dataset\n",
    "\n",
    "scores = cross_val_score(lr, X_train, Y_train, scoring='r2', cv=folds)  #fitting the Cross validation\n",
    "print(\"The average value obtained in 10-fold cross-validation is : \", np.mean(scores))"
   ]
  },
  {
   "cell_type": "markdown",
   "metadata": {},
   "source": [
    "There is a significant drop in R2 value . hence this model is not considered.\n",
    "\n",
    "#### R2 value is : 0.54"
   ]
  },
  {
   "cell_type": "markdown",
   "metadata": {},
   "source": [
    "###  Feature engineering"
   ]
  },
  {
   "cell_type": "markdown",
   "metadata": {},
   "source": [
    "#### Feature genertion and transformation:"
   ]
  },
  {
   "cell_type": "code",
   "execution_count": 77,
   "metadata": {},
   "outputs": [],
   "source": [
    "# Creating the duplicate dataset\n",
    "\n",
    "# split into train test sets\n",
    "data,test = train_test_split(dataset, test_size=0.18, random_state=4)\n",
    "# split into train test sets\n",
    "train,valid = train_test_split(data, test_size=0.22, random_state=4)\n",
    "df = train"
   ]
  },
  {
   "cell_type": "code",
   "execution_count": 78,
   "metadata": {},
   "outputs": [
    {
     "data": {
      "text/html": [
       "<div>\n",
       "<style scoped>\n",
       "    .dataframe tbody tr th:only-of-type {\n",
       "        vertical-align: middle;\n",
       "    }\n",
       "\n",
       "    .dataframe tbody tr th {\n",
       "        vertical-align: top;\n",
       "    }\n",
       "\n",
       "    .dataframe thead th {\n",
       "        text-align: right;\n",
       "    }\n",
       "</style>\n",
       "<table border=\"1\" class=\"dataframe\">\n",
       "  <thead>\n",
       "    <tr style=\"text-align: right;\">\n",
       "      <th></th>\n",
       "      <th>selling_price</th>\n",
       "      <th>km_driven</th>\n",
       "      <th>fuel</th>\n",
       "      <th>seller_type</th>\n",
       "      <th>transmission</th>\n",
       "      <th>owner</th>\n",
       "      <th>mileage</th>\n",
       "      <th>engine</th>\n",
       "      <th>max_power</th>\n",
       "      <th>seats</th>\n",
       "      <th>age</th>\n",
       "    </tr>\n",
       "  </thead>\n",
       "  <tbody>\n",
       "    <tr>\n",
       "      <th>6588</th>\n",
       "      <td>5500000</td>\n",
       "      <td>8500</td>\n",
       "      <td>Diesel</td>\n",
       "      <td>Dealer</td>\n",
       "      <td>Automatic</td>\n",
       "      <td>First Owner</td>\n",
       "      <td>16.78</td>\n",
       "      <td>1995.0</td>\n",
       "      <td>190.00</td>\n",
       "      <td>5.0</td>\n",
       "      <td>2</td>\n",
       "    </tr>\n",
       "    <tr>\n",
       "      <th>593</th>\n",
       "      <td>300000</td>\n",
       "      <td>66693</td>\n",
       "      <td>Petrol</td>\n",
       "      <td>Dealer</td>\n",
       "      <td>Manual</td>\n",
       "      <td>First Owner</td>\n",
       "      <td>25.17</td>\n",
       "      <td>799.0</td>\n",
       "      <td>53.30</td>\n",
       "      <td>5.0</td>\n",
       "      <td>5</td>\n",
       "    </tr>\n",
       "    <tr>\n",
       "      <th>5795</th>\n",
       "      <td>600000</td>\n",
       "      <td>90000</td>\n",
       "      <td>Diesel</td>\n",
       "      <td>Individual</td>\n",
       "      <td>Automatic</td>\n",
       "      <td>First Owner</td>\n",
       "      <td>17.20</td>\n",
       "      <td>1968.0</td>\n",
       "      <td>138.10</td>\n",
       "      <td>5.0</td>\n",
       "      <td>8</td>\n",
       "    </tr>\n",
       "    <tr>\n",
       "      <th>4300</th>\n",
       "      <td>800000</td>\n",
       "      <td>25000</td>\n",
       "      <td>Petrol</td>\n",
       "      <td>Individual</td>\n",
       "      <td>Manual</td>\n",
       "      <td>First Owner</td>\n",
       "      <td>15.85</td>\n",
       "      <td>1499.0</td>\n",
       "      <td>110.40</td>\n",
       "      <td>5.0</td>\n",
       "      <td>6</td>\n",
       "    </tr>\n",
       "    <tr>\n",
       "      <th>1304</th>\n",
       "      <td>451000</td>\n",
       "      <td>91000</td>\n",
       "      <td>Diesel</td>\n",
       "      <td>Individual</td>\n",
       "      <td>Manual</td>\n",
       "      <td>First Owner</td>\n",
       "      <td>22.54</td>\n",
       "      <td>1396.0</td>\n",
       "      <td>88.73</td>\n",
       "      <td>5.0</td>\n",
       "      <td>7</td>\n",
       "    </tr>\n",
       "  </tbody>\n",
       "</table>\n",
       "</div>"
      ],
      "text/plain": [
       "      selling_price  km_driven    fuel seller_type transmission        owner  \\\n",
       "6588        5500000       8500  Diesel      Dealer    Automatic  First Owner   \n",
       "593          300000      66693  Petrol      Dealer       Manual  First Owner   \n",
       "5795         600000      90000  Diesel  Individual    Automatic  First Owner   \n",
       "4300         800000      25000  Petrol  Individual       Manual  First Owner   \n",
       "1304         451000      91000  Diesel  Individual       Manual  First Owner   \n",
       "\n",
       "      mileage  engine  max_power  seats  age  \n",
       "6588    16.78  1995.0     190.00    5.0    2  \n",
       "593     25.17   799.0      53.30    5.0    5  \n",
       "5795    17.20  1968.0     138.10    5.0    8  \n",
       "4300    15.85  1499.0     110.40    5.0    6  \n",
       "1304    22.54  1396.0      88.73    5.0    7  "
      ]
     },
     "execution_count": 78,
     "metadata": {},
     "output_type": "execute_result"
    }
   ],
   "source": [
    "# Creating a new feauture:\n",
    "#Age of the cars :\n",
    "cars['age'] = 2021 - df['year']          #Calculating the age of the house since construction\n",
    "cars.head()"
   ]
  },
  {
   "cell_type": "code",
   "execution_count": 79,
   "metadata": {
    "scrolled": false
   },
   "outputs": [
    {
     "data": {
      "text/plain": [
       "<AxesSubplot:xlabel='age', ylabel='Count'>"
      ]
     },
     "execution_count": 79,
     "metadata": {},
     "output_type": "execute_result"
    },
    {
     "data": {
      "image/png": "[encoded data removed]",
      "text/plain": [
       "<Figure size 432x288 with 1 Axes>"
      ]
     },
     "metadata": {},
     "output_type": "display_data"
    }
   ],
   "source": [
    "#Plotting the No.of house w.r.t age of the house:\n",
    "sns.histplot(data= cars['age'], x=cars['age'])"
   ]
  },
  {
   "cell_type": "code",
   "execution_count": 80,
   "metadata": {},
   "outputs": [
    {
     "data": {
      "text/plain": [
       "<AxesSubplot:xlabel='selling_price', ylabel='Count'>"
      ]
     },
     "execution_count": 80,
     "metadata": {},
     "output_type": "execute_result"
    },
    {
     "data": {
      "image/png": "[encoded data removed]",
      "text/plain": [
       "<Figure size 432x288 with 1 Axes>"
      ]
     },
     "metadata": {},
     "output_type": "display_data"
    }
   ],
   "source": [
    "#Plotting the No.of house w.r.t age of the house:\n",
    "sns.histplot(data= cars['selling_price'], x=cars['selling_price'])"
   ]
  },
  {
   "cell_type": "markdown",
   "metadata": {},
   "source": [
    "### Linear regression Model - by adding age feauture to the Linear model -1:\n",
    "\n",
    "Set of Predictors used : ['km_driven','mileage', 'engine','max_power','age']"
   ]
  },
  {
   "cell_type": "code",
   "execution_count": 81,
   "metadata": {},
   "outputs": [],
   "source": [
    "#Assigning the set of target variables and predictors : \n",
    "X = cars[['km_driven','mileage', 'engine','max_power','age']]    #Target Variables\n",
    "Y = cars['selling_price']                                                        #Predictors\n",
    "#Splitting the data set into test and train for the train and validation purpose:\n",
    "X_train, X_test, Y_train, Y_test = train_test_split(X,Y,test_size=0.3, random_state = 7)"
   ]
  },
  {
   "cell_type": "code",
   "execution_count": 82,
   "metadata": {},
   "outputs": [
    {
     "name": "stdout",
     "output_type": "stream",
     "text": [
      "The MAE is : 283240.4673707737\n",
      "The R-square is : 0.6616339282088353\n"
     ]
    }
   ],
   "source": [
    "# Standardizing the target variables :\n",
    "std = StandardScaler()                    #Assigning the function\n",
    "X_train_std = std.fit_transform(X_train)  #Standardizing the train set of data \n",
    "X_test_std = std.transform(X_test)        #Standardizing the test set of data \n",
    "lr = LinearRegression()            #Linear regression function assigned to lr\n",
    "lr.fit(X_train_std,Y_train)        #fitting the model\n",
    "Y_pred = lr.predict(X_test_std)    #predicted value\n",
    "\n",
    "#Calculating the mean absolute error:  \n",
    "print(\"The MAE is :\" ,mean_absolute_error(Y_test,Y_pred) ) #Mean absolute error \n",
    "#Calculating the R_square value:\n",
    "print(\"The R-square is :\",r2_score(Y_test,Y_pred))    #R_square value"
   ]
  },
  {
   "cell_type": "markdown",
   "metadata": {},
   "source": [
    "#### 10-fold cross-validation of the chosen set of predictors :"
   ]
  },
  {
   "cell_type": "code",
   "execution_count": 83,
   "metadata": {
    "scrolled": true
   },
   "outputs": [
    {
     "name": "stdout",
     "output_type": "stream",
     "text": [
      "The average value obtained in 10-fold cross-validation is :  0.6211496559947504\n",
      "The maximum value obtained in 10-fold cross-validation is :  0.6956723344882719\n"
     ]
    }
   ],
   "source": [
    "# create a KFold object with 10 splits \n",
    "\n",
    "folds = KFold(n_splits = 10, shuffle = True, random_state = 100)       #Split of the dataset\n",
    "\n",
    "scores = cross_val_score(lr, X_train, Y_train, scoring='r2', cv=folds)  #fitting the Cross validation\n",
    "\n",
    "print(\"The average value obtained in 10-fold cross-validation is : \", np.mean(scores))\n",
    "print(\"The maximum value obtained in 10-fold cross-validation is : \", max(scores))"
   ]
  },
  {
   "cell_type": "markdown",
   "metadata": {},
   "source": [
    "By adding the feature age, the R2 value obtained is 0.622. And also by removing the seats from the model fitted , there is a slight drop in R2 value to 0.01.\n",
    "\n",
    "Hence the 'seats' is removed from the model.\n",
    "\n",
    "### R2 value is :  0.62"
   ]
  },
  {
   "cell_type": "markdown",
   "metadata": {},
   "source": [
    "#### Taking the log on the continuos variables:"
   ]
  },
  {
   "cell_type": "code",
   "execution_count": 84,
   "metadata": {},
   "outputs": [],
   "source": [
    "#Creating the dataframe for log:\n",
    "cars_log = cars"
   ]
  },
  {
   "cell_type": "code",
   "execution_count": 85,
   "metadata": {},
   "outputs": [
    {
     "data": {
      "text/html": [
       "<div>\n",
       "<style scoped>\n",
       "    .dataframe tbody tr th:only-of-type {\n",
       "        vertical-align: middle;\n",
       "    }\n",
       "\n",
       "    .dataframe tbody tr th {\n",
       "        vertical-align: top;\n",
       "    }\n",
       "\n",
       "    .dataframe thead th {\n",
       "        text-align: right;\n",
       "    }\n",
       "</style>\n",
       "<table border=\"1\" class=\"dataframe\">\n",
       "  <thead>\n",
       "    <tr style=\"text-align: right;\">\n",
       "      <th></th>\n",
       "      <th>selling_price</th>\n",
       "      <th>km_driven</th>\n",
       "      <th>fuel</th>\n",
       "      <th>seller_type</th>\n",
       "      <th>transmission</th>\n",
       "      <th>owner</th>\n",
       "      <th>mileage</th>\n",
       "      <th>engine</th>\n",
       "      <th>max_power</th>\n",
       "      <th>seats</th>\n",
       "      <th>age</th>\n",
       "    </tr>\n",
       "  </thead>\n",
       "  <tbody>\n",
       "    <tr>\n",
       "      <th>6588</th>\n",
       "      <td>15.520259</td>\n",
       "      <td>9.047821</td>\n",
       "      <td>Diesel</td>\n",
       "      <td>Dealer</td>\n",
       "      <td>Automatic</td>\n",
       "      <td>First Owner</td>\n",
       "      <td>2.820188</td>\n",
       "      <td>7.598399</td>\n",
       "      <td>5.247024</td>\n",
       "      <td>5.0</td>\n",
       "      <td>2</td>\n",
       "    </tr>\n",
       "    <tr>\n",
       "      <th>593</th>\n",
       "      <td>12.611538</td>\n",
       "      <td>11.107855</td>\n",
       "      <td>Petrol</td>\n",
       "      <td>Dealer</td>\n",
       "      <td>Manual</td>\n",
       "      <td>First Owner</td>\n",
       "      <td>3.225653</td>\n",
       "      <td>6.683361</td>\n",
       "      <td>3.975936</td>\n",
       "      <td>5.0</td>\n",
       "      <td>5</td>\n",
       "    </tr>\n",
       "    <tr>\n",
       "      <th>5795</th>\n",
       "      <td>13.304685</td>\n",
       "      <td>11.407565</td>\n",
       "      <td>Diesel</td>\n",
       "      <td>Individual</td>\n",
       "      <td>Automatic</td>\n",
       "      <td>First Owner</td>\n",
       "      <td>2.844909</td>\n",
       "      <td>7.584773</td>\n",
       "      <td>4.927978</td>\n",
       "      <td>5.0</td>\n",
       "      <td>8</td>\n",
       "    </tr>\n",
       "    <tr>\n",
       "      <th>4300</th>\n",
       "      <td>13.592367</td>\n",
       "      <td>10.126631</td>\n",
       "      <td>Petrol</td>\n",
       "      <td>Individual</td>\n",
       "      <td>Manual</td>\n",
       "      <td>First Owner</td>\n",
       "      <td>2.763170</td>\n",
       "      <td>7.312553</td>\n",
       "      <td>4.704110</td>\n",
       "      <td>5.0</td>\n",
       "      <td>6</td>\n",
       "    </tr>\n",
       "    <tr>\n",
       "      <th>1304</th>\n",
       "      <td>13.019223</td>\n",
       "      <td>11.418615</td>\n",
       "      <td>Diesel</td>\n",
       "      <td>Individual</td>\n",
       "      <td>Manual</td>\n",
       "      <td>First Owner</td>\n",
       "      <td>3.115292</td>\n",
       "      <td>7.241366</td>\n",
       "      <td>4.485598</td>\n",
       "      <td>5.0</td>\n",
       "      <td>7</td>\n",
       "    </tr>\n",
       "  </tbody>\n",
       "</table>\n",
       "</div>"
      ],
      "text/plain": [
       "      selling_price  km_driven    fuel seller_type transmission        owner  \\\n",
       "6588      15.520259   9.047821  Diesel      Dealer    Automatic  First Owner   \n",
       "593       12.611538  11.107855  Petrol      Dealer       Manual  First Owner   \n",
       "5795      13.304685  11.407565  Diesel  Individual    Automatic  First Owner   \n",
       "4300      13.592367  10.126631  Petrol  Individual       Manual  First Owner   \n",
       "1304      13.019223  11.418615  Diesel  Individual       Manual  First Owner   \n",
       "\n",
       "       mileage    engine  max_power  seats  age  \n",
       "6588  2.820188  7.598399   5.247024    5.0    2  \n",
       "593   3.225653  6.683361   3.975936    5.0    5  \n",
       "5795  2.844909  7.584773   4.927978    5.0    8  \n",
       "4300  2.763170  7.312553   4.704110    5.0    6  \n",
       "1304  3.115292  7.241366   4.485598    5.0    7  "
      ]
     },
     "execution_count": 85,
     "metadata": {},
     "output_type": "execute_result"
    }
   ],
   "source": [
    "#Taking the log on the continuos variables:\n",
    "cars_log.selling_price = np.log(cars.selling_price)\n",
    "cars_log.km_driven = np.log(cars.km_driven)\n",
    "cars_log.mileage = np.log(cars.mileage)\n",
    "cars_log.engine = np.log(cars.engine)\n",
    "cars_log.max_power = np.log(cars.max_power)\n",
    "cars_log.head()"
   ]
  },
  {
   "cell_type": "code",
   "execution_count": 86,
   "metadata": {},
   "outputs": [],
   "source": [
    "#Assigning the set of target variables and predictors : \n",
    "X = cars_log[['km_driven','mileage', 'engine','max_power','age']]    #Target Variables\n",
    "Y = cars_log['selling_price']                                                        #Predictors\n",
    "#Splitting the data set into test and train for the train and validation purpose:\n",
    "X_train, X_test, Y_train, Y_test = train_test_split(X,Y,test_size=0.3, random_state = 7)"
   ]
  },
  {
   "cell_type": "code",
   "execution_count": 87,
   "metadata": {},
   "outputs": [
    {
     "name": "stdout",
     "output_type": "stream",
     "text": [
      "The MAE is : 178013.2352741505\n",
      "The R-square is : 0.7369249144738447\n"
     ]
    }
   ],
   "source": [
    "# Standardizing the target variables :\n",
    " \n",
    "lr = LinearRegression()            #Linear regression function assigned to lr\n",
    "lr.fit(X_train,Y_train)        #fitting the model\n",
    "Y_pred = lr.predict(X_test)    #predicted value\n",
    "Y_pred = np.exp(Y_pred)\n",
    "Y_test = np.exp(Y_test)\n",
    "\n",
    "#Calculating the mean absolute error:  \n",
    "print(\"The MAE is :\" ,mean_absolute_error(Y_test,Y_pred)) #Mean absolute error \n",
    "#Calculating the R_square value:\n",
    "print(\"The R-square is :\",r2_score(Y_test,Y_pred))    #R_square value"
   ]
  },
  {
   "cell_type": "markdown",
   "metadata": {},
   "source": [
    "#### 10-fold cross-validation of the chosen set of predictors :"
   ]
  },
  {
   "cell_type": "code",
   "execution_count": 88,
   "metadata": {},
   "outputs": [
    {
     "name": "stdout",
     "output_type": "stream",
     "text": [
      "The average value obtained in 10-fold cross-validation is :  0.8401963973524511\n",
      "The maximum value obtained in 10-fold cross-validation is :  0.860891144660538\n"
     ]
    }
   ],
   "source": [
    "# create a KFold object with 10 splits \n",
    "\n",
    "folds = KFold(n_splits = 10, shuffle = True, random_state = 100)       #Split of the dataset\n",
    "\n",
    "scores = cross_val_score(lr, X_train, Y_train, scoring='r2', cv=folds)  #fitting the Cross validation\n",
    "\n",
    "print(\"The average value obtained in 10-fold cross-validation is : \", np.mean(scores))\n",
    "print(\"The maximum value obtained in 10-fold cross-validation is : \", max(scores))"
   ]
  },
  {
   "cell_type": "markdown",
   "metadata": {},
   "source": [
    "After taking the log on the continuos variables , the R2 value has been improved to 0.84\n",
    "\n",
    "### R2 value : 0.84"
   ]
  },
  {
   "cell_type": "markdown",
   "metadata": {},
   "source": [
    "#### Creating the dummy variables for the one-hot encoding :\n",
    "\n",
    "Considering the (fuel,seller_type,transmission & owner) as a categorical variable ,  we do one-hot encoding on them  to transform data to binary and perform regression:"
   ]
  },
  {
   "cell_type": "markdown",
   "metadata": {},
   "source": [
    "Performing the Label encoding on the fuel as there are only 2 unique values:"
   ]
  },
  {
   "cell_type": "code",
   "execution_count": 89,
   "metadata": {},
   "outputs": [
    {
     "data": {
      "text/html": [
       "<div>\n",
       "<style scoped>\n",
       "    .dataframe tbody tr th:only-of-type {\n",
       "        vertical-align: middle;\n",
       "    }\n",
       "\n",
       "    .dataframe tbody tr th {\n",
       "        vertical-align: top;\n",
       "    }\n",
       "\n",
       "    .dataframe thead th {\n",
       "        text-align: right;\n",
       "    }\n",
       "</style>\n",
       "<table border=\"1\" class=\"dataframe\">\n",
       "  <thead>\n",
       "    <tr style=\"text-align: right;\">\n",
       "      <th></th>\n",
       "      <th>selling_price</th>\n",
       "      <th>km_driven</th>\n",
       "      <th>fuel</th>\n",
       "      <th>seller_type</th>\n",
       "      <th>transmission</th>\n",
       "      <th>owner</th>\n",
       "      <th>mileage</th>\n",
       "      <th>engine</th>\n",
       "      <th>max_power</th>\n",
       "      <th>seats</th>\n",
       "      <th>age</th>\n",
       "    </tr>\n",
       "  </thead>\n",
       "  <tbody>\n",
       "    <tr>\n",
       "      <th>6588</th>\n",
       "      <td>15.520259</td>\n",
       "      <td>9.047821</td>\n",
       "      <td>Diesel</td>\n",
       "      <td>Dealer</td>\n",
       "      <td>0</td>\n",
       "      <td>First Owner</td>\n",
       "      <td>2.820188</td>\n",
       "      <td>7.598399</td>\n",
       "      <td>5.247024</td>\n",
       "      <td>5.0</td>\n",
       "      <td>2</td>\n",
       "    </tr>\n",
       "    <tr>\n",
       "      <th>593</th>\n",
       "      <td>12.611538</td>\n",
       "      <td>11.107855</td>\n",
       "      <td>Petrol</td>\n",
       "      <td>Dealer</td>\n",
       "      <td>1</td>\n",
       "      <td>First Owner</td>\n",
       "      <td>3.225653</td>\n",
       "      <td>6.683361</td>\n",
       "      <td>3.975936</td>\n",
       "      <td>5.0</td>\n",
       "      <td>5</td>\n",
       "    </tr>\n",
       "    <tr>\n",
       "      <th>5795</th>\n",
       "      <td>13.304685</td>\n",
       "      <td>11.407565</td>\n",
       "      <td>Diesel</td>\n",
       "      <td>Individual</td>\n",
       "      <td>0</td>\n",
       "      <td>First Owner</td>\n",
       "      <td>2.844909</td>\n",
       "      <td>7.584773</td>\n",
       "      <td>4.927978</td>\n",
       "      <td>5.0</td>\n",
       "      <td>8</td>\n",
       "    </tr>\n",
       "    <tr>\n",
       "      <th>4300</th>\n",
       "      <td>13.592367</td>\n",
       "      <td>10.126631</td>\n",
       "      <td>Petrol</td>\n",
       "      <td>Individual</td>\n",
       "      <td>1</td>\n",
       "      <td>First Owner</td>\n",
       "      <td>2.763170</td>\n",
       "      <td>7.312553</td>\n",
       "      <td>4.704110</td>\n",
       "      <td>5.0</td>\n",
       "      <td>6</td>\n",
       "    </tr>\n",
       "    <tr>\n",
       "      <th>1304</th>\n",
       "      <td>13.019223</td>\n",
       "      <td>11.418615</td>\n",
       "      <td>Diesel</td>\n",
       "      <td>Individual</td>\n",
       "      <td>1</td>\n",
       "      <td>First Owner</td>\n",
       "      <td>3.115292</td>\n",
       "      <td>7.241366</td>\n",
       "      <td>4.485598</td>\n",
       "      <td>5.0</td>\n",
       "      <td>7</td>\n",
       "    </tr>\n",
       "  </tbody>\n",
       "</table>\n",
       "</div>"
      ],
      "text/plain": [
       "      selling_price  km_driven    fuel seller_type  transmission        owner  \\\n",
       "6588      15.520259   9.047821  Diesel      Dealer             0  First Owner   \n",
       "593       12.611538  11.107855  Petrol      Dealer             1  First Owner   \n",
       "5795      13.304685  11.407565  Diesel  Individual             0  First Owner   \n",
       "4300      13.592367  10.126631  Petrol  Individual             1  First Owner   \n",
       "1304      13.019223  11.418615  Diesel  Individual             1  First Owner   \n",
       "\n",
       "       mileage    engine  max_power  seats  age  \n",
       "6588  2.820188  7.598399   5.247024    5.0    2  \n",
       "593   3.225653  6.683361   3.975936    5.0    5  \n",
       "5795  2.844909  7.584773   4.927978    5.0    8  \n",
       "4300  2.763170  7.312553   4.704110    5.0    6  \n",
       "1304  3.115292  7.241366   4.485598    5.0    7  "
      ]
     },
     "execution_count": 89,
     "metadata": {},
     "output_type": "execute_result"
    }
   ],
   "source": [
    "#Label encoding on the fuel\n",
    "cars_log['transmission']= label_encoder.fit_transform(cars_log['transmission']) \n",
    "cars_log.head()"
   ]
  },
  {
   "cell_type": "code",
   "execution_count": 90,
   "metadata": {},
   "outputs": [],
   "source": [
    "# create Taret and the predictor variable\n",
    "feature_cols =['km_driven','mileage', 'engine','age','max_power','fuel','owner','transmission','seller_type']  #Adding the required features\n",
    "x = cars_log[feature_cols] # predictor set of features\n",
    "X = pd.get_dummies(x)   # Creating the binary using get_dummies\n",
    "\n",
    "Y = (cars_log['selling_price'])                                     #Predictors\n",
    "#Splitting the data set into test and train for the train and validation purpose:\n",
    "X_train, X_test, Y_train, Y_test = train_test_split(X,Y,test_size=0.2, random_state = 33)"
   ]
  },
  {
   "cell_type": "code",
   "execution_count": 91,
   "metadata": {},
   "outputs": [
    {
     "name": "stdout",
     "output_type": "stream",
     "text": [
      "The MAE is : 163234.78280823003\n",
      "The R-square is : 0.8073629687813114\n"
     ]
    }
   ],
   "source": [
    "# Standardizing the target variables :\n",
    "lr = LinearRegression()            #Linear regression function assigned to lr\n",
    "lr.fit(X_train,Y_train)        #fitting the model\n",
    "Y_pred = lr.predict(X_test)    #predicted value\n",
    "Y_pred = np.exp(Y_pred)\n",
    "Y_test = np.exp(Y_test)\n",
    "#Calculating the mean absolute error:  \n",
    "print(\"The MAE is :\" ,mean_absolute_error(Y_test,Y_pred) ) #Mean absolute error \n",
    "#Calculating the R_square value:\n",
    "print(\"The R-square is :\",r2_score(Y_test,Y_pred))    #R_square value"
   ]
  },
  {
   "cell_type": "code",
   "execution_count": 92,
   "metadata": {},
   "outputs": [],
   "source": [
    "def mape(actual, pred): \n",
    "    actual, pred = np.array(actual), np.array(pred)\n",
    "    return np.mean(np.abs((actual - pred) / actual)) * 100"
   ]
  },
  {
   "cell_type": "code",
   "execution_count": 93,
   "metadata": {},
   "outputs": [
    {
     "name": "stdout",
     "output_type": "stream",
     "text": [
      "The MAPE is : 25.853661443267516\n",
      "The RMSE is : 353264.5767383602\n"
     ]
    }
   ],
   "source": [
    "from math import sqrt\n",
    "print(\"The MAPE is :\",mape(Y_test,Y_pred))\n",
    "#calculate RMSE\n",
    "print(\"The RMSE is :\", sqrt(mean_squared_error(Y_test,Y_pred)))"
   ]
  },
  {
   "cell_type": "markdown",
   "metadata": {},
   "source": [
    "#### 10-fold cross-validation of the chosen set of predictors :"
   ]
  },
  {
   "cell_type": "code",
   "execution_count": 94,
   "metadata": {
    "scrolled": true
   },
   "outputs": [
    {
     "name": "stdout",
     "output_type": "stream",
     "text": [
      "The average value obtained in 10-fold cross-validation is :  0.8618477965722761\n",
      "The maximum value obtained in 10-fold cross-validation is :  0.8786230346934577\n"
     ]
    }
   ],
   "source": [
    "# create a KFold object with 10 splits \n",
    "\n",
    "folds = KFold(n_splits = 10, shuffle = True, random_state = 100)       #Split of the dataset\n",
    "\n",
    "scores = cross_val_score(lr, X_train, Y_train, scoring='r2', cv=folds)  #fitting the Cross validation\n",
    "\n",
    "\n",
    "print(\"The average value obtained in 10-fold cross-validation is : \", np.mean(scores))\n",
    "print(\"The maximum value obtained in 10-fold cross-validation is : \", max(scores))"
   ]
  },
  {
   "cell_type": "markdown",
   "metadata": {},
   "source": [
    "After the encoding of the categorical variables , The R2 value has increased by 0.02.\n",
    "\n",
    "### R2 value = 0.862"
   ]
  },
  {
   "cell_type": "markdown",
   "metadata": {},
   "source": [
    "### Feature Importance\n",
    "\n",
    " As we have taken too many features the, feature importance has been analused using  the VIF and forward selection."
   ]
  },
  {
   "cell_type": "markdown",
   "metadata": {},
   "source": [
    "### VIF "
   ]
  },
  {
   "cell_type": "code",
   "execution_count": 95,
   "metadata": {},
   "outputs": [],
   "source": [
    "#Sclaing the dataset to a new dataframe:\n",
    "df_scaled = scaler.fit_transform(cars[['km_driven','mileage', 'engine','max_power','age',\"transmission\",'seats']])\n",
    "df_scaled = DataFrame(df_scaled)"
   ]
  },
  {
   "cell_type": "code",
   "execution_count": 96,
   "metadata": {},
   "outputs": [],
   "source": [
    "df_scaled = df_scaled.rename(columns = {0: 'km_driven',1: 'mileage',2:'engine',3:'max_power',4:'age',5:'transmission',6:'seats'}, inplace = False)\n",
    "X = df_scaled[['km_driven','mileage', 'engine','max_power','age','transmission','seats']]"
   ]
  },
  {
   "cell_type": "code",
   "execution_count": 97,
   "metadata": {
    "scrolled": true
   },
   "outputs": [
    {
     "data": {
      "text/html": [
       "<div>\n",
       "<style scoped>\n",
       "    .dataframe tbody tr th:only-of-type {\n",
       "        vertical-align: middle;\n",
       "    }\n",
       "\n",
       "    .dataframe tbody tr th {\n",
       "        vertical-align: top;\n",
       "    }\n",
       "\n",
       "    .dataframe thead th {\n",
       "        text-align: right;\n",
       "    }\n",
       "</style>\n",
       "<table border=\"1\" class=\"dataframe\">\n",
       "  <thead>\n",
       "    <tr style=\"text-align: right;\">\n",
       "      <th></th>\n",
       "      <th>VIF Value</th>\n",
       "      <th>features</th>\n",
       "    </tr>\n",
       "  </thead>\n",
       "  <tbody>\n",
       "    <tr>\n",
       "      <th>0</th>\n",
       "      <td>1.813197</td>\n",
       "      <td>km_driven</td>\n",
       "    </tr>\n",
       "    <tr>\n",
       "      <th>1</th>\n",
       "      <td>2.404697</td>\n",
       "      <td>mileage</td>\n",
       "    </tr>\n",
       "    <tr>\n",
       "      <th>2</th>\n",
       "      <td>4.820729</td>\n",
       "      <td>engine</td>\n",
       "    </tr>\n",
       "    <tr>\n",
       "      <th>3</th>\n",
       "      <td>3.638025</td>\n",
       "      <td>max_power</td>\n",
       "    </tr>\n",
       "    <tr>\n",
       "      <th>4</th>\n",
       "      <td>2.260549</td>\n",
       "      <td>age</td>\n",
       "    </tr>\n",
       "    <tr>\n",
       "      <th>5</th>\n",
       "      <td>1.500310</td>\n",
       "      <td>transmission</td>\n",
       "    </tr>\n",
       "    <tr>\n",
       "      <th>6</th>\n",
       "      <td>2.173103</td>\n",
       "      <td>seats</td>\n",
       "    </tr>\n",
       "  </tbody>\n",
       "</table>\n",
       "</div>"
      ],
      "text/plain": [
       "   VIF Value      features\n",
       "0   1.813197     km_driven\n",
       "1   2.404697       mileage\n",
       "2   4.820729        engine\n",
       "3   3.638025     max_power\n",
       "4   2.260549           age\n",
       "5   1.500310  transmission\n",
       "6   2.173103         seats"
      ]
     },
     "execution_count": 97,
     "metadata": {},
     "output_type": "execute_result"
    }
   ],
   "source": [
    "#Computing the VIF:\n",
    "vif = pd.DataFrame()\n",
    "vif[\"VIF Value\"] = [variance_inflation_factor(X.values, i) for i in range(X.shape[1])]\n",
    "vif[\"features\"] = X.columns\n",
    "vif"
   ]
  },
  {
   "cell_type": "markdown",
   "metadata": {},
   "source": [
    " From the clacualtion of the VIF there is no multicollinearity is observed.Hence moving on."
   ]
  },
  {
   "cell_type": "markdown",
   "metadata": {},
   "source": [
    "### 5. Using forward selection to select an appropriate model"
   ]
  },
  {
   "cell_type": "code",
   "execution_count": 98,
   "metadata": {},
   "outputs": [],
   "source": [
    "#Reading the dataset\n",
    "#df= pd.read_csv(\"wk3_kc_house_train_data.csv\")\n",
    "feature_cols =['km_driven','mileage', 'engine','age','max_power','fuel','owner','transmission','seller_type']  #Adding the required features\n",
    "x = cars_log[feature_cols] # predictor set of features\n",
    "X = pd.get_dummies(x)   # Creating the binary using get_dummies\n",
    "Y = (cars_log['selling_price'])                                     #Predictors"
   ]
  },
  {
   "cell_type": "code",
   "execution_count": 99,
   "metadata": {},
   "outputs": [],
   "source": [
    "#Splitting the data set into test and train for the train and validation purpose:\n",
    "x_train, x_test, y_train, y_test = train_test_split(X,Y,test_size=0.3, random_state = 33)"
   ]
  },
  {
   "cell_type": "code",
   "execution_count": 100,
   "metadata": {},
   "outputs": [
    {
     "name": "stderr",
     "output_type": "stream",
     "text": [
      "[Parallel(n_jobs=-1)]: Using backend LokyBackend with 8 concurrent workers.\n",
      "[Parallel(n_jobs=-1)]: Done  13 out of  18 | elapsed:    0.0s remaining:    0.0s\n",
      "[Parallel(n_jobs=-1)]: Done  18 out of  18 | elapsed:    0.0s finished\n",
      "\n",
      "[2021-07-11 09:11:21] Features: 1/4 -- score: 0.5461120136687224[Parallel(n_jobs=-1)]: Using backend LokyBackend with 8 concurrent workers.\n",
      "[Parallel(n_jobs=-1)]: Done  11 out of  17 | elapsed:    0.0s remaining:    0.0s\n",
      "[Parallel(n_jobs=-1)]: Done  17 out of  17 | elapsed:    0.0s finished\n",
      "\n",
      "[2021-07-11 09:11:21] Features: 2/4 -- score: 0.8274118229170655[Parallel(n_jobs=-1)]: Using backend LokyBackend with 8 concurrent workers.\n",
      "[Parallel(n_jobs=-1)]: Done  10 out of  16 | elapsed:    0.0s remaining:    0.0s\n",
      "[Parallel(n_jobs=-1)]: Done  16 out of  16 | elapsed:    0.0s finished\n",
      "\n",
      "[2021-07-11 09:11:22] Features: 3/4 -- score: 0.8424299273311107[Parallel(n_jobs=-1)]: Using backend LokyBackend with 8 concurrent workers.\n",
      "[Parallel(n_jobs=-1)]: Done   8 out of  15 | elapsed:    0.0s remaining:    0.0s\n",
      "[Parallel(n_jobs=-1)]: Done  15 out of  15 | elapsed:    0.0s finished\n",
      "\n",
      "[2021-07-11 09:11:22] Features: 4/4 -- score: 0.8525524140805272"
     ]
    }
   ],
   "source": [
    "#Forward selection:\n",
    "sfs=SFS(LinearRegression(fit_intercept=True,\n",
    "    normalize=False,n_jobs=-1),k_features=(1,4),forward=True,floating=False,verbose=2,cv=4,n_jobs=-1).fit(x_train,y_train)"
   ]
  },
  {
   "cell_type": "code",
   "execution_count": 101,
   "metadata": {},
   "outputs": [
    {
     "name": "stdout",
     "output_type": "stream",
     "text": [
      "Accuracy :  0.8525524140805272\n",
      "Feautures selected :  ('engine', 'age', 'max_power', 'transmission')\n"
     ]
    }
   ],
   "source": [
    "#Printing the accuracy and the features which is obtained by forward selection:\n",
    "print(\"Accuracy : \",sfs.k_score_)\n",
    "print(\"Feautures selected : \",sfs.k_feature_names_)"
   ]
  },
  {
   "cell_type": "markdown",
   "metadata": {},
   "source": [
    "The forward selection is used to find the best features and 'engine', 'age', 'max_power', 'transmission' are selected as the best features. "
   ]
  },
  {
   "cell_type": "markdown",
   "metadata": {},
   "source": [
    "Performing the Linear regression using the four features : 'engine', 'age', 'max_power', 'transmission'"
   ]
  },
  {
   "cell_type": "code",
   "execution_count": 102,
   "metadata": {},
   "outputs": [],
   "source": [
    "# create Taret and the predictor variable\n",
    "feature_cols =['age','engine','max_power','transmission']  #Adding the required features\n",
    "x = cars_log[feature_cols] # predictor set of features\n",
    "X = pd.get_dummies(x)   # Creating the binary using get_dummies\n",
    "\n",
    "Y = (cars_log['selling_price'])                                     #Predictors\n",
    "#Splitting the data set into test and train for the train and validation purpose:\n",
    "X_train, X_test, Y_train, Y_test = train_test_split(X,Y,test_size=0.2, random_state = 33)"
   ]
  },
  {
   "cell_type": "code",
   "execution_count": 103,
   "metadata": {},
   "outputs": [
    {
     "name": "stdout",
     "output_type": "stream",
     "text": [
      "The MAE is : 172560.75849488584\n",
      "The R-square is : 0.7740121633019656\n"
     ]
    }
   ],
   "source": [
    "# Standardizing the target variables :\n",
    " \n",
    "lr = LinearRegression()            #Linear regression function assigned to lr\n",
    "lr.fit(X_train,Y_train)        #fitting the model\n",
    "Y_pred = lr.predict(X_test)    #predicted value\n",
    "Y_pred = np.exp(Y_pred)\n",
    "Y_test = np.exp(Y_test)\n",
    "#Calculating the mean absolute error:  \n",
    "print(\"The MAE is :\" ,mean_absolute_error(Y_test,Y_pred) ) #Mean absolute error \n",
    "#Calculating the R_square value:\n",
    "print(\"The R-square is :\",r2_score(Y_test,Y_pred))    #R_square value"
   ]
  },
  {
   "cell_type": "code",
   "execution_count": 104,
   "metadata": {
    "scrolled": true
   },
   "outputs": [
    {
     "name": "stdout",
     "output_type": "stream",
     "text": [
      "The MAPE is : 27.066450050132694\n",
      "The RMSE is : 382624.4649249895\n"
     ]
    }
   ],
   "source": [
    "print(\"The MAPE is :\",mape(Y_test,Y_pred))\n",
    "#calculate RMSE\n",
    "print(\"The RMSE is :\", sqrt(mean_squared_error(Y_test,Y_pred)))"
   ]
  },
  {
   "cell_type": "markdown",
   "metadata": {},
   "source": [
    "#### 10-fold cross-validation of the chosen set of predictors :"
   ]
  },
  {
   "cell_type": "code",
   "execution_count": 105,
   "metadata": {
    "scrolled": true
   },
   "outputs": [
    {
     "name": "stdout",
     "output_type": "stream",
     "text": [
      "The average value obtained in 10-fold cross-validation is :  0.8491108031302345\n",
      "The maximum value obtained in 10-fold cross-validation is :  0.8661753509964311\n"
     ]
    }
   ],
   "source": [
    "# create a KFold object with 10 splits \n",
    "\n",
    "folds = KFold(n_splits = 10, shuffle = True, random_state = 100)       #Split of the dataset\n",
    "\n",
    "scores = cross_val_score(lr, X_train, Y_train, scoring='r2', cv=folds)  #fitting the Cross validation\n",
    "\n",
    "\n",
    "print(\"The average value obtained in 10-fold cross-validation is : \", np.mean(scores))\n",
    "print(\"The maximum value obtained in 10-fold cross-validation is : \", max(scores))"
   ]
  },
  {
   "cell_type": "markdown",
   "metadata": {},
   "source": [
    "OLS Model:"
   ]
  },
  {
   "cell_type": "code",
   "execution_count": 106,
   "metadata": {},
   "outputs": [
    {
     "name": "stdout",
     "output_type": "stream",
     "text": [
      "                            OLS Regression Results                            \n",
      "==============================================================================\n",
      "Dep. Variable:          selling_price   R-squared:                       0.851\n",
      "Model:                            OLS   Adj. R-squared:                  0.851\n",
      "Method:                 Least Squares   F-statistic:                     7188.\n",
      "Date:                Sun, 11 Jul 2021   Prob (F-statistic):               0.00\n",
      "Time:                        09:11:22   Log-Likelihood:                -1403.7\n",
      "No. Observations:                5037   AIC:                             2817.\n",
      "Df Residuals:                    5032   BIC:                             2850.\n",
      "Df Model:                           4                                         \n",
      "Covariance Type:            nonrobust                                         \n",
      "================================================================================\n",
      "                   coef    std err          t      P>|t|      [0.025      0.975]\n",
      "--------------------------------------------------------------------------------\n",
      "const            6.2648      0.111     56.486      0.000       6.047       6.482\n",
      "age             -0.1205      0.001    -96.426      0.000      -0.123      -0.118\n",
      "engine           0.5300      0.023     23.482      0.000       0.486       0.574\n",
      "max_power        0.8983      0.023     39.147      0.000       0.853       0.943\n",
      "transmission    -0.2906      0.015    -18.844      0.000      -0.321      -0.260\n",
      "==============================================================================\n",
      "Omnibus:                      105.916   Durbin-Watson:                   1.947\n",
      "Prob(Omnibus):                  0.000   Jarque-Bera (JB):              171.928\n",
      "Skew:                          -0.197   Prob(JB):                     4.64e-38\n",
      "Kurtosis:                       3.815   Cond. No.                         283.\n",
      "==============================================================================\n",
      "\n",
      "Notes:\n",
      "[1] Standard Errors assume that the covariance matrix of the errors is correctly specified.\n"
     ]
    }
   ],
   "source": [
    "X = stm.add_constant(X)\n",
    "y = (cars_log['selling_price']) \n",
    "lin_reg = stm.OLS(y, X)\n",
    "results = lin_reg.fit()\n",
    "print(results.summary())"
   ]
  },
  {
   "cell_type": "markdown",
   "metadata": {},
   "source": [
    "From the previous model, I have selected 'engine', 'age', 'max_power', 'transmission' as important features and fitted the model.\n",
    "The R2 value dropped from 0.86 to 0.85 which is very minimal.\n",
    "\n",
    "### R2 value = 0.85"
   ]
  },
  {
   "cell_type": "markdown",
   "metadata": {},
   "source": [
    "### Using the validation dataset to evaluate the model:\n"
   ]
  },
  {
   "cell_type": "code",
   "execution_count": 107,
   "metadata": {},
   "outputs": [
    {
     "data": {
      "text/html": [
       "<div>\n",
       "<style scoped>\n",
       "    .dataframe tbody tr th:only-of-type {\n",
       "        vertical-align: middle;\n",
       "    }\n",
       "\n",
       "    .dataframe tbody tr th {\n",
       "        vertical-align: top;\n",
       "    }\n",
       "\n",
       "    .dataframe thead th {\n",
       "        text-align: right;\n",
       "    }\n",
       "</style>\n",
       "<table border=\"1\" class=\"dataframe\">\n",
       "  <thead>\n",
       "    <tr style=\"text-align: right;\">\n",
       "      <th></th>\n",
       "      <th>name</th>\n",
       "      <th>year</th>\n",
       "      <th>selling_price</th>\n",
       "      <th>km_driven</th>\n",
       "      <th>fuel</th>\n",
       "      <th>seller_type</th>\n",
       "      <th>transmission</th>\n",
       "      <th>owner</th>\n",
       "      <th>mileage</th>\n",
       "      <th>engine</th>\n",
       "      <th>max_power</th>\n",
       "      <th>seats</th>\n",
       "      <th>age</th>\n",
       "    </tr>\n",
       "  </thead>\n",
       "  <tbody>\n",
       "    <tr>\n",
       "      <th>5628</th>\n",
       "      <td>BMW X4 M Sport X xDrive20d</td>\n",
       "      <td>2019</td>\n",
       "      <td>5400000</td>\n",
       "      <td>7500</td>\n",
       "      <td>Diesel</td>\n",
       "      <td>Dealer</td>\n",
       "      <td>0</td>\n",
       "      <td>First Owner</td>\n",
       "      <td>16.78</td>\n",
       "      <td>1995.0</td>\n",
       "      <td>190.00</td>\n",
       "      <td>5.0</td>\n",
       "      <td>2</td>\n",
       "    </tr>\n",
       "    <tr>\n",
       "      <th>8124</th>\n",
       "      <td>Hyundai Verna CRDi SX</td>\n",
       "      <td>2007</td>\n",
       "      <td>135000</td>\n",
       "      <td>119000</td>\n",
       "      <td>Diesel</td>\n",
       "      <td>Individual</td>\n",
       "      <td>1</td>\n",
       "      <td>Fourth &amp; Above Owner</td>\n",
       "      <td>16.80</td>\n",
       "      <td>1493.0</td>\n",
       "      <td>110.00</td>\n",
       "      <td>5.0</td>\n",
       "      <td>14</td>\n",
       "    </tr>\n",
       "    <tr>\n",
       "      <th>4776</th>\n",
       "      <td>Tata Hexa XM</td>\n",
       "      <td>2018</td>\n",
       "      <td>1300000</td>\n",
       "      <td>35000</td>\n",
       "      <td>Diesel</td>\n",
       "      <td>Individual</td>\n",
       "      <td>1</td>\n",
       "      <td>First Owner</td>\n",
       "      <td>17.60</td>\n",
       "      <td>2179.0</td>\n",
       "      <td>153.86</td>\n",
       "      <td>7.0</td>\n",
       "      <td>3</td>\n",
       "    </tr>\n",
       "    <tr>\n",
       "      <th>3197</th>\n",
       "      <td>Tata Indigo CS eVX</td>\n",
       "      <td>2013</td>\n",
       "      <td>227999</td>\n",
       "      <td>60000</td>\n",
       "      <td>Diesel</td>\n",
       "      <td>Individual</td>\n",
       "      <td>1</td>\n",
       "      <td>Second Owner</td>\n",
       "      <td>25.00</td>\n",
       "      <td>1396.0</td>\n",
       "      <td>69.01</td>\n",
       "      <td>5.0</td>\n",
       "      <td>8</td>\n",
       "    </tr>\n",
       "    <tr>\n",
       "      <th>5363</th>\n",
       "      <td>Mahindra Xylo D2 BSIV</td>\n",
       "      <td>2014</td>\n",
       "      <td>395000</td>\n",
       "      <td>140000</td>\n",
       "      <td>Diesel</td>\n",
       "      <td>Individual</td>\n",
       "      <td>1</td>\n",
       "      <td>First Owner</td>\n",
       "      <td>14.00</td>\n",
       "      <td>2489.0</td>\n",
       "      <td>95.00</td>\n",
       "      <td>8.0</td>\n",
       "      <td>7</td>\n",
       "    </tr>\n",
       "  </tbody>\n",
       "</table>\n",
       "</div>"
      ],
      "text/plain": [
       "                            name  year  selling_price  km_driven    fuel  \\\n",
       "5628  BMW X4 M Sport X xDrive20d  2019        5400000       7500  Diesel   \n",
       "8124       Hyundai Verna CRDi SX  2007         135000     119000  Diesel   \n",
       "4776                Tata Hexa XM  2018        1300000      35000  Diesel   \n",
       "3197          Tata Indigo CS eVX  2013         227999      60000  Diesel   \n",
       "5363       Mahindra Xylo D2 BSIV  2014         395000     140000  Diesel   \n",
       "\n",
       "     seller_type  transmission                 owner  mileage  engine  \\\n",
       "5628      Dealer             0           First Owner    16.78  1995.0   \n",
       "8124  Individual             1  Fourth & Above Owner    16.80  1493.0   \n",
       "4776  Individual             1           First Owner    17.60  2179.0   \n",
       "3197  Individual             1          Second Owner    25.00  1396.0   \n",
       "5363  Individual             1           First Owner    14.00  2489.0   \n",
       "\n",
       "      max_power  seats  age  \n",
       "5628     190.00    5.0    2  \n",
       "8124     110.00    5.0   14  \n",
       "4776     153.86    7.0    3  \n",
       "3197      69.01    5.0    8  \n",
       "5363      95.00    8.0    7  "
      ]
     },
     "execution_count": 107,
     "metadata": {},
     "output_type": "execute_result"
    }
   ],
   "source": [
    "valid['age'] = 2021 - valid['year']          #Calculating the age of the house since construction\n",
    "valid['transmission']= label_encoder.fit_transform(valid['transmission'])\n",
    "valid.dropna(inplace=True)\n",
    "valid.head()"
   ]
  },
  {
   "cell_type": "code",
   "execution_count": 108,
   "metadata": {},
   "outputs": [],
   "source": [
    "valid.selling_price = np.log(valid.selling_price)\n",
    "valid.km_driven = np.log(valid.km_driven)\n",
    "valid.mileage = np.log(valid.mileage)\n",
    "valid.engine = np.log(valid.engine)\n",
    "valid.max_power = np.log(valid.max_power)"
   ]
  },
  {
   "cell_type": "code",
   "execution_count": 109,
   "metadata": {},
   "outputs": [],
   "source": [
    "# create Taret and the predictor variable\n",
    "feature_cols =['age','engine','max_power','transmission']  #Adding the required features\n",
    "x = valid[feature_cols] # predictor set of features\n",
    "X = pd.get_dummies(x)   # Creating the binary using get_dummies\n",
    "\n",
    "Y = (valid['selling_price'])                                     #Predictors\n",
    "#Splitting the data set into test and train for the train and validation purpose:\n",
    "X_train, X_test, Y_train, Y_test = train_test_split(X,Y,test_size=0.2, random_state = 33)"
   ]
  },
  {
   "cell_type": "code",
   "execution_count": 110,
   "metadata": {},
   "outputs": [
    {
     "name": "stdout",
     "output_type": "stream",
     "text": [
      "The MAE is : 226852.6400264679\n",
      "The R-square is : 0.7134960555058054\n"
     ]
    }
   ],
   "source": [
    "# Standardizing the target variables :\n",
    "\n",
    "lr = LinearRegression()            #Linear regression function assigned to lr\n",
    "lr.fit(X_train,Y_train)        #fitting the model\n",
    "Y_pred = lr.predict(X_test)    #predicted value\n",
    "Y_pred = np.exp(Y_pred)\n",
    "Y_test = np.exp(Y_test)\n",
    "#Calculating the mean absolute error:  \n",
    "print(\"The MAE is :\" ,mean_absolute_error(Y_test,Y_pred) ) #Mean absolute error \n",
    "#Calculating the R_square value:\n",
    "print(\"The R-square is :\",r2_score(Y_test,Y_pred))    #R_square value"
   ]
  },
  {
   "cell_type": "code",
   "execution_count": 111,
   "metadata": {
    "scrolled": true
   },
   "outputs": [
    {
     "name": "stdout",
     "output_type": "stream",
     "text": [
      "The MAPE is : 28.06071865689442\n",
      "The RMSE is : 514718.2146489195\n"
     ]
    }
   ],
   "source": [
    "print(\"The MAPE is :\",mape(Y_test,Y_pred))\n",
    "#calculate RMSE\n",
    "print(\"The RMSE is :\", sqrt(mean_squared_error(Y_test,Y_pred)))"
   ]
  },
  {
   "cell_type": "markdown",
   "metadata": {},
   "source": [
    "#### 10-fold cross-validation of the chosen set of predictors :"
   ]
  },
  {
   "cell_type": "code",
   "execution_count": 112,
   "metadata": {
    "scrolled": true
   },
   "outputs": [
    {
     "name": "stdout",
     "output_type": "stream",
     "text": [
      "The average value obtained in 10-fold cross-validation is :  0.8195739178474589\n",
      "The maximum value obtained in 10-fold cross-validation is :  0.8493195117673096\n"
     ]
    }
   ],
   "source": [
    "# create a KFold object with 10 splits \n",
    "\n",
    "folds = KFold(n_splits = 10, shuffle = True, random_state = 100)       #Split of the dataset\n",
    "\n",
    "scores = cross_val_score(lr, X_train, Y_train, scoring='r2', cv=folds)  #fitting the Cross validation\n",
    "\n",
    "\n",
    "print(\"The average value obtained in 10-fold cross-validation is : \", np.mean(scores))\n",
    "print(\"The maximum value obtained in 10-fold cross-validation is : \", max(scores))"
   ]
  },
  {
   "cell_type": "markdown",
   "metadata": {},
   "source": [
    "On the validation dataset, the R2 value has dropped by 0.03.\n",
    "\n",
    "### R2 value on the Validation Dataset : 0.82"
   ]
  },
  {
   "cell_type": "markdown",
   "metadata": {},
   "source": [
    "### Using the Test dataset to predict the using the best model:"
   ]
  },
  {
   "cell_type": "code",
   "execution_count": 113,
   "metadata": {},
   "outputs": [],
   "source": [
    "\n",
    "test['age'] = 2021 - test['year']          #Calculating the age of the house since construction\n",
    "test['transmission']= label_encoder.fit_transform(test['transmission'])\n",
    "test.dropna(inplace=True)"
   ]
  },
  {
   "cell_type": "code",
   "execution_count": 114,
   "metadata": {},
   "outputs": [
    {
     "data": {
      "text/html": [
       "<div>\n",
       "<style scoped>\n",
       "    .dataframe tbody tr th:only-of-type {\n",
       "        vertical-align: middle;\n",
       "    }\n",
       "\n",
       "    .dataframe tbody tr th {\n",
       "        vertical-align: top;\n",
       "    }\n",
       "\n",
       "    .dataframe thead th {\n",
       "        text-align: right;\n",
       "    }\n",
       "</style>\n",
       "<table border=\"1\" class=\"dataframe\">\n",
       "  <thead>\n",
       "    <tr style=\"text-align: right;\">\n",
       "      <th></th>\n",
       "      <th>name</th>\n",
       "      <th>year</th>\n",
       "      <th>selling_price</th>\n",
       "      <th>km_driven</th>\n",
       "      <th>fuel</th>\n",
       "      <th>seller_type</th>\n",
       "      <th>transmission</th>\n",
       "      <th>owner</th>\n",
       "      <th>mileage</th>\n",
       "      <th>engine</th>\n",
       "      <th>max_power</th>\n",
       "      <th>seats</th>\n",
       "      <th>age</th>\n",
       "    </tr>\n",
       "  </thead>\n",
       "  <tbody>\n",
       "    <tr>\n",
       "      <th>6405</th>\n",
       "      <td>Chevrolet Enjoy 1.3 TCDi LS 8</td>\n",
       "      <td>2016</td>\n",
       "      <td>13.102161</td>\n",
       "      <td>11.289782</td>\n",
       "      <td>Diesel</td>\n",
       "      <td>Individual</td>\n",
       "      <td>1</td>\n",
       "      <td>First Owner</td>\n",
       "      <td>2.901422</td>\n",
       "      <td>7.129298</td>\n",
       "      <td>4.300545</td>\n",
       "      <td>8.0</td>\n",
       "      <td>5</td>\n",
       "    </tr>\n",
       "    <tr>\n",
       "      <th>1032</th>\n",
       "      <td>Hyundai Verna Transform SX VTVT</td>\n",
       "      <td>2011</td>\n",
       "      <td>12.899220</td>\n",
       "      <td>11.002100</td>\n",
       "      <td>Petrol</td>\n",
       "      <td>Individual</td>\n",
       "      <td>1</td>\n",
       "      <td>First Owner</td>\n",
       "      <td>2.785011</td>\n",
       "      <td>7.377134</td>\n",
       "      <td>4.636669</td>\n",
       "      <td>5.0</td>\n",
       "      <td>10</td>\n",
       "    </tr>\n",
       "    <tr>\n",
       "      <th>6792</th>\n",
       "      <td>Maruti Alto 800 LXI</td>\n",
       "      <td>2014</td>\n",
       "      <td>12.206073</td>\n",
       "      <td>10.596635</td>\n",
       "      <td>Petrol</td>\n",
       "      <td>Individual</td>\n",
       "      <td>1</td>\n",
       "      <td>Third Owner</td>\n",
       "      <td>3.124125</td>\n",
       "      <td>6.679599</td>\n",
       "      <td>3.856510</td>\n",
       "      <td>5.0</td>\n",
       "      <td>7</td>\n",
       "    </tr>\n",
       "    <tr>\n",
       "      <th>2765</th>\n",
       "      <td>Hyundai Verna 1.6 VTVT S</td>\n",
       "      <td>2015</td>\n",
       "      <td>13.384728</td>\n",
       "      <td>10.596635</td>\n",
       "      <td>Petrol</td>\n",
       "      <td>Individual</td>\n",
       "      <td>1</td>\n",
       "      <td>First Owner</td>\n",
       "      <td>2.833801</td>\n",
       "      <td>7.372118</td>\n",
       "      <td>4.798267</td>\n",
       "      <td>5.0</td>\n",
       "      <td>6</td>\n",
       "    </tr>\n",
       "    <tr>\n",
       "      <th>1714</th>\n",
       "      <td>Toyota Camry 2.5 Hybrid</td>\n",
       "      <td>2016</td>\n",
       "      <td>14.508658</td>\n",
       "      <td>11.128571</td>\n",
       "      <td>Petrol</td>\n",
       "      <td>Trustmark Dealer</td>\n",
       "      <td>0</td>\n",
       "      <td>First Owner</td>\n",
       "      <td>2.952825</td>\n",
       "      <td>7.821643</td>\n",
       "      <td>5.060694</td>\n",
       "      <td>5.0</td>\n",
       "      <td>5</td>\n",
       "    </tr>\n",
       "  </tbody>\n",
       "</table>\n",
       "</div>"
      ],
      "text/plain": [
       "                                 name  year  selling_price  km_driven    fuel  \\\n",
       "6405    Chevrolet Enjoy 1.3 TCDi LS 8  2016      13.102161  11.289782  Diesel   \n",
       "1032  Hyundai Verna Transform SX VTVT  2011      12.899220  11.002100  Petrol   \n",
       "6792              Maruti Alto 800 LXI  2014      12.206073  10.596635  Petrol   \n",
       "2765         Hyundai Verna 1.6 VTVT S  2015      13.384728  10.596635  Petrol   \n",
       "1714          Toyota Camry 2.5 Hybrid  2016      14.508658  11.128571  Petrol   \n",
       "\n",
       "           seller_type  transmission        owner   mileage    engine  \\\n",
       "6405        Individual             1  First Owner  2.901422  7.129298   \n",
       "1032        Individual             1  First Owner  2.785011  7.377134   \n",
       "6792        Individual             1  Third Owner  3.124125  6.679599   \n",
       "2765        Individual             1  First Owner  2.833801  7.372118   \n",
       "1714  Trustmark Dealer             0  First Owner  2.952825  7.821643   \n",
       "\n",
       "      max_power  seats  age  \n",
       "6405   4.300545    8.0    5  \n",
       "1032   4.636669    5.0   10  \n",
       "6792   3.856510    5.0    7  \n",
       "2765   4.798267    5.0    6  \n",
       "1714   5.060694    5.0    5  "
      ]
     },
     "execution_count": 114,
     "metadata": {},
     "output_type": "execute_result"
    }
   ],
   "source": [
    "test.selling_price = np.log(test.selling_price)\n",
    "test.km_driven = np.log(test.km_driven)\n",
    "test.mileage = np.log(test.mileage)\n",
    "test.engine = np.log(test.engine)\n",
    "test.max_power = np.log(test.max_power)\n",
    "test.head()"
   ]
  },
  {
   "cell_type": "code",
   "execution_count": 115,
   "metadata": {},
   "outputs": [],
   "source": [
    "# create Taret and the predictor variable\n",
    "feature_cols =['age','engine','max_power','transmission']  #Adding the required features\n",
    "x = test[feature_cols] # predictor set of features\n",
    "X = pd.get_dummies(x)   # Creating the binary using get_dummies\n",
    "\n",
    "Y = (test['selling_price'])                                     #Predictors\n",
    "#Splitting the data set into test and train for the train and validation purpose:\n",
    "X_train, X_test, Y_train, Y_test = train_test_split(X,Y,test_size=0.2, random_state = 33)"
   ]
  },
  {
   "cell_type": "code",
   "execution_count": 116,
   "metadata": {},
   "outputs": [
    {
     "name": "stdout",
     "output_type": "stream",
     "text": [
      "The MAE is : 187581.91764188765\n",
      "The R-square is : 0.7331206385214072\n"
     ]
    }
   ],
   "source": [
    "# Standardizing the target variables :\n",
    " \n",
    "lr = LinearRegression()            #Linear regression function assigned to lr\n",
    "lr.fit(X_train,Y_train)        #fitting the model\n",
    "Y_pred = lr.predict(X_test)    #predicted value\n",
    "Y_pred = np.exp(Y_pred)\n",
    "Y_test = np.exp(Y_test)\n",
    "#Calculating the mean absolute error:  \n",
    "print(\"The MAE is :\" ,mean_absolute_error(Y_test,Y_pred) ) #Mean absolute error \n",
    "#Calculating the R_square value:\n",
    "print(\"The R-square is :\",r2_score(Y_test,Y_pred))    #R_square value"
   ]
  },
  {
   "cell_type": "code",
   "execution_count": 117,
   "metadata": {
    "scrolled": true
   },
   "outputs": [
    {
     "name": "stdout",
     "output_type": "stream",
     "text": [
      "The MAPE is : 23.552985162827827\n",
      "The RMSE is : 443462.79349358263\n"
     ]
    }
   ],
   "source": [
    "print(\"The MAPE is :\",mape(Y_test,Y_pred))\n",
    "#calculate RMSE\n",
    "print(\"The RMSE is :\", sqrt(mean_squared_error(Y_test,Y_pred)))"
   ]
  },
  {
   "cell_type": "markdown",
   "metadata": {},
   "source": [
    "#### 10-fold cross-validation of the chosen set of predictors :"
   ]
  },
  {
   "cell_type": "code",
   "execution_count": 118,
   "metadata": {
    "scrolled": true
   },
   "outputs": [
    {
     "name": "stdout",
     "output_type": "stream",
     "text": [
      "The average value obtained in 10-fold cross-validation is :  0.8479369805785717\n",
      "The maximum value obtained in 10-fold cross-validation is :  0.8885278917066496\n"
     ]
    }
   ],
   "source": [
    "# create a KFold object with 10 splits \n",
    "folds = KFold(n_splits = 10, shuffle = True, random_state = 100)       #Split of the dataset\n",
    "scores = cross_val_score(lr, X_train, Y_train, scoring='r2', cv=folds)  #fitting the Cross validation\n",
    "print(\"The average value obtained in 10-fold cross-validation is : \", np.mean(scores))\n",
    "print(\"The maximum value obtained in 10-fold cross-validation is : \", max(scores))"
   ]
  },
  {
   "cell_type": "markdown",
   "metadata": {},
   "source": [
    "On the test dataset, the R2 value value obtained is 0.85."
   ]
  },
  {
   "cell_type": "markdown",
   "metadata": {},
   "source": [
    "###  Decision tree"
   ]
  },
  {
   "cell_type": "markdown",
   "metadata": {},
   "source": [
    "Decision Tree Model - 1\n"
   ]
  },
  {
   "cell_type": "code",
   "execution_count": 119,
   "metadata": {},
   "outputs": [],
   "source": [
    "#Assigning the feautures to the variable X\n",
    "X = cars[['km_driven','mileage', 'engine','max_power','age']]\n",
    "y = (cars[['selling_price']])"
   ]
  },
  {
   "cell_type": "code",
   "execution_count": 120,
   "metadata": {},
   "outputs": [],
   "source": [
    "#Splitting the dataset in the train and test set:\n",
    "X_train,X_test,y_train,y_test = train_test_split(X,y,test_size=0.25,random_state=33)"
   ]
  },
  {
   "cell_type": "code",
   "execution_count": 121,
   "metadata": {},
   "outputs": [
    {
     "name": "stdout",
     "output_type": "stream",
     "text": [
      "MAE is: 0.2514694357143101\n",
      "RMSE is: 0.3259055292432127\n",
      "R-square is: 0.8525807415610587\n"
     ]
    }
   ],
   "source": [
    "#Decision Tree \n",
    "tr_regressor = DecisionTreeRegressor(max_depth = 5,min_samples_leaf =8) #loading the decision tree alogorithm\n",
    "tr_regressor.fit(X_train,y_train)    #Fitting the model\n",
    "y_pred = tr_regressor.predict(X_test) #Predicting the y values\n",
    "Y_pred = np.exp(Y_pred)\n",
    "Y_test = np.exp(Y_test)\n",
    "#Printing the MAE,RMSE and R-square values :\n",
    "print ('MAE is:', mean_absolute_error(y_test, y_pred  ))   #Calculating and printing the mean absolute error\n",
    "print ('RMSE is:', sqrt(mean_squared_error(y_test,y_pred  )))  #Calculating and printing the root mean square error\n",
    "print ('R-square is:', r2_score(y_test,y_pred))   #Calculating and printing the R-square value"
   ]
  },
  {
   "cell_type": "code",
   "execution_count": 122,
   "metadata": {},
   "outputs": [
    {
     "name": "stdout",
     "output_type": "stream",
     "text": [
      "The average value obtained in 10-fold cross-validation is :  0.8503166375094919\n",
      "The maximum value obtained in 10-fold cross-validation is :  0.8656150649067624\n"
     ]
    }
   ],
   "source": [
    "# create a KFold object with 10 splits \n",
    "folds = KFold(n_splits = 10, shuffle = True, random_state = 100)       #Split of the dataset\n",
    "score = cross_val_score(tr_regressor, X, y,cv = folds,scoring=\"r2\")\n",
    "print(\"The average value obtained in 10-fold cross-validation is : \", np.mean(score))\n",
    "print(\"The maximum value obtained in 10-fold cross-validation is : \", max(score))"
   ]
  },
  {
   "cell_type": "markdown",
   "metadata": {},
   "source": [
    "### R2 value\n",
    "\n",
    "#### Linear Regression Model-1 = 0.84\n",
    "#### Decision tree Model-1  = 0.85"
   ]
  },
  {
   "cell_type": "markdown",
   "metadata": {},
   "source": [
    "### Label Encoding"
   ]
  },
  {
   "cell_type": "code",
   "execution_count": 123,
   "metadata": {},
   "outputs": [
    {
     "data": {
      "text/html": [
       "<div>\n",
       "<style scoped>\n",
       "    .dataframe tbody tr th:only-of-type {\n",
       "        vertical-align: middle;\n",
       "    }\n",
       "\n",
       "    .dataframe tbody tr th {\n",
       "        vertical-align: top;\n",
       "    }\n",
       "\n",
       "    .dataframe thead th {\n",
       "        text-align: right;\n",
       "    }\n",
       "</style>\n",
       "<table border=\"1\" class=\"dataframe\">\n",
       "  <thead>\n",
       "    <tr style=\"text-align: right;\">\n",
       "      <th></th>\n",
       "      <th>selling_price</th>\n",
       "      <th>km_driven</th>\n",
       "      <th>fuel</th>\n",
       "      <th>seller_type</th>\n",
       "      <th>transmission</th>\n",
       "      <th>owner</th>\n",
       "      <th>mileage</th>\n",
       "      <th>engine</th>\n",
       "      <th>max_power</th>\n",
       "      <th>seats</th>\n",
       "      <th>age</th>\n",
       "    </tr>\n",
       "  </thead>\n",
       "  <tbody>\n",
       "    <tr>\n",
       "      <th>6588</th>\n",
       "      <td>15.520259</td>\n",
       "      <td>9.047821</td>\n",
       "      <td>1</td>\n",
       "      <td>0</td>\n",
       "      <td>0</td>\n",
       "      <td>0</td>\n",
       "      <td>2.820188</td>\n",
       "      <td>7.598399</td>\n",
       "      <td>5.247024</td>\n",
       "      <td>5.0</td>\n",
       "      <td>2</td>\n",
       "    </tr>\n",
       "    <tr>\n",
       "      <th>593</th>\n",
       "      <td>12.611538</td>\n",
       "      <td>11.107855</td>\n",
       "      <td>3</td>\n",
       "      <td>0</td>\n",
       "      <td>1</td>\n",
       "      <td>0</td>\n",
       "      <td>3.225653</td>\n",
       "      <td>6.683361</td>\n",
       "      <td>3.975936</td>\n",
       "      <td>5.0</td>\n",
       "      <td>5</td>\n",
       "    </tr>\n",
       "    <tr>\n",
       "      <th>5795</th>\n",
       "      <td>13.304685</td>\n",
       "      <td>11.407565</td>\n",
       "      <td>1</td>\n",
       "      <td>1</td>\n",
       "      <td>0</td>\n",
       "      <td>0</td>\n",
       "      <td>2.844909</td>\n",
       "      <td>7.584773</td>\n",
       "      <td>4.927978</td>\n",
       "      <td>5.0</td>\n",
       "      <td>8</td>\n",
       "    </tr>\n",
       "    <tr>\n",
       "      <th>4300</th>\n",
       "      <td>13.592367</td>\n",
       "      <td>10.126631</td>\n",
       "      <td>3</td>\n",
       "      <td>1</td>\n",
       "      <td>1</td>\n",
       "      <td>0</td>\n",
       "      <td>2.763170</td>\n",
       "      <td>7.312553</td>\n",
       "      <td>4.704110</td>\n",
       "      <td>5.0</td>\n",
       "      <td>6</td>\n",
       "    </tr>\n",
       "    <tr>\n",
       "      <th>1304</th>\n",
       "      <td>13.019223</td>\n",
       "      <td>11.418615</td>\n",
       "      <td>1</td>\n",
       "      <td>1</td>\n",
       "      <td>1</td>\n",
       "      <td>0</td>\n",
       "      <td>3.115292</td>\n",
       "      <td>7.241366</td>\n",
       "      <td>4.485598</td>\n",
       "      <td>5.0</td>\n",
       "      <td>7</td>\n",
       "    </tr>\n",
       "  </tbody>\n",
       "</table>\n",
       "</div>"
      ],
      "text/plain": [
       "      selling_price  km_driven  fuel  seller_type  transmission  owner  \\\n",
       "6588      15.520259   9.047821     1            0             0      0   \n",
       "593       12.611538  11.107855     3            0             1      0   \n",
       "5795      13.304685  11.407565     1            1             0      0   \n",
       "4300      13.592367  10.126631     3            1             1      0   \n",
       "1304      13.019223  11.418615     1            1             1      0   \n",
       "\n",
       "       mileage    engine  max_power  seats  age  \n",
       "6588  2.820188  7.598399   5.247024    5.0    2  \n",
       "593   3.225653  6.683361   3.975936    5.0    5  \n",
       "5795  2.844909  7.584773   4.927978    5.0    8  \n",
       "4300  2.763170  7.312553   4.704110    5.0    6  \n",
       "1304  3.115292  7.241366   4.485598    5.0    7  "
      ]
     },
     "execution_count": 123,
     "metadata": {},
     "output_type": "execute_result"
    }
   ],
   "source": [
    " \n",
    "# Encode labels in column 'species'.\n",
    "cars['fuel']= label_encoder.fit_transform(cars['fuel'])\n",
    "cars['seller_type']= label_encoder.fit_transform(cars['seller_type'])\n",
    "cars['transmission']= label_encoder.fit_transform(cars['transmission'])\n",
    "cars['owner']= label_encoder.fit_transform(cars['owner'])\n",
    "cars.head()"
   ]
  },
  {
   "cell_type": "code",
   "execution_count": 124,
   "metadata": {},
   "outputs": [],
   "source": [
    "#seperating the Predictor from the other features:\n",
    "X = cars[['km_driven','mileage','age','engine','max_power','fuel','seller_type','transmission']]\n",
    "y=cars['selling_price']"
   ]
  },
  {
   "cell_type": "code",
   "execution_count": 125,
   "metadata": {},
   "outputs": [],
   "source": [
    "#Splitting the dataset in the train and test set:\n",
    "X_train, X_test, y_train, y_test = train_test_split(X,y,test_size=0.3, random_state = 7)"
   ]
  },
  {
   "cell_type": "code",
   "execution_count": 126,
   "metadata": {},
   "outputs": [
    {
     "name": "stdout",
     "output_type": "stream",
     "text": [
      "MAE is: 0.27810439369226575\n",
      "RMSE is: 0.3658544450265004\n",
      "R-square is: 0.8082674801908449\n"
     ]
    }
   ],
   "source": [
    "#Decision Tree \n",
    "tr_regressor = DecisionTreeRegressor( max_depth=6 ,max_leaf_nodes=12  ) #loading the decision tree alogorithm\n",
    "tr_regressor.fit(X_train,y_train)    #Fitting the model\n",
    "y_pred = tr_regressor.predict(X_test) #Predicting the y values\n",
    "Y_pred = np.exp(Y_pred)\n",
    "Y_test = np.exp(Y_test)\n",
    "#Printing the MAE,RMSE and R-square values :\n",
    "print ('MAE is:', mean_absolute_error(y_test, y_pred  ))   #Calculating and printing the mean absolute error\n",
    "print ('RMSE is:', sqrt(mean_squared_error(y_test,y_pred  )))  #Calculating and printing the root mean square error\n",
    "print ('R-square is:', r2_score(y_test,y_pred))   #Calculating and printing the R-square value"
   ]
  },
  {
   "cell_type": "code",
   "execution_count": 127,
   "metadata": {},
   "outputs": [
    {
     "name": "stdout",
     "output_type": "stream",
     "text": [
      "The average value obtained in 10-fold cross-validation is :  0.8114985489520921\n",
      "The maximum value obtained in 10-fold cross-validation is :  0.8326914548480986\n"
     ]
    }
   ],
   "source": [
    "# create a KFold object with 10 splits \n",
    "folds = KFold(n_splits = 10, shuffle = True, random_state = 100)       #Split of the dataset\n",
    "score = cross_val_score(tr_regressor, X, y,cv = folds,scoring=\"r2\")\n",
    "print(\"The average value obtained in 10-fold cross-validation is : \", np.mean(score))\n",
    "print(\"The maximum value obtained in 10-fold cross-validation is : \", max(score))"
   ]
  },
  {
   "cell_type": "markdown",
   "metadata": {},
   "source": [
    "### R2 value\n",
    "\n",
    "#### Linear Regression Model-1 = 82\n",
    "#### Decision tree Model-1  = 0.81"
   ]
  },
  {
   "cell_type": "markdown",
   "metadata": {},
   "source": [
    "Model fitting -3 - Using the features selected by using feature selection"
   ]
  },
  {
   "cell_type": "code",
   "execution_count": 128,
   "metadata": {},
   "outputs": [],
   "source": [
    "# create Taret and the predictor variable\n",
    "feature_cols =['age','engine','max_power','transmission']  #Adding the required features\n",
    "x = cars_log[feature_cols] # predictor set of features\n",
    "X = pd.get_dummies(x)   # Creating the binary using get_dummies\n",
    "y = (cars_log['selling_price'])                    #Predictors"
   ]
  },
  {
   "cell_type": "code",
   "execution_count": 129,
   "metadata": {},
   "outputs": [],
   "source": [
    "#Splitting the dataset in the train and test set:\n",
    "X_train, X_test, y_train, y_test = train_test_split(X,y,test_size=0.3, random_state = 7)"
   ]
  },
  {
   "cell_type": "code",
   "execution_count": 130,
   "metadata": {},
   "outputs": [
    {
     "name": "stdout",
     "output_type": "stream",
     "text": [
      "MAE is: 0.2781043936922656\n",
      "RMSE is: 0.3658544450265003\n",
      "R-square is: 0.808267480190845\n"
     ]
    }
   ],
   "source": [
    "#Decision Tree \n",
    "tr_regressor = DecisionTreeRegressor( max_depth=6 ,max_leaf_nodes=12  ) #loading the decision tree alogorithm\n",
    "tr_regressor.fit(X_train,y_train)    #Fitting the model\n",
    "y_pred = tr_regressor.predict(X_test) #Predicting the y values\n",
    "Y_pred = np.exp(Y_pred)\n",
    "Y_test = np.exp(Y_test)\n",
    "#Printing the MAE,RMSE and R-square values :\n",
    "print ('MAE is:', mean_absolute_error(y_test, y_pred  ))   #Calculating and printing the mean absolute error\n",
    "print ('RMSE is:', sqrt(mean_squared_error(y_test,y_pred  )))  #Calculating and printing the root mean square error\n",
    "print ('R-square is:', r2_score(y_test,y_pred))   #Calculating and printing the R-square value"
   ]
  },
  {
   "cell_type": "code",
   "execution_count": 131,
   "metadata": {},
   "outputs": [
    {
     "name": "stdout",
     "output_type": "stream",
     "text": [
      "The average value obtained in 10-fold cross-validation is :  0.8114985489520923\n",
      "The maximum value obtained in 10-fold cross-validation is :  0.8326914548480997\n"
     ]
    }
   ],
   "source": [
    "# create a KFold object with 10 splits \n",
    "folds = KFold(n_splits = 10, shuffle = True, random_state = 100)       #Split of the dataset\n",
    "score = cross_val_score(tr_regressor, X, y,cv = folds,scoring=\"r2\")\n",
    "print(\"The average value obtained in 10-fold cross-validation is : \", np.mean(score))\n",
    "print(\"The maximum value obtained in 10-fold cross-validation is : \", max(score))"
   ]
  },
  {
   "cell_type": "markdown",
   "metadata": {},
   "source": [
    "#### Finding the best model :"
   ]
  },
  {
   "cell_type": "markdown",
   "metadata": {},
   "source": [
    "Using grid search to estimate the best params for the decision tree "
   ]
  },
  {
   "cell_type": "code",
   "execution_count": 132,
   "metadata": {},
   "outputs": [],
   "source": [
    "from sklearn import tree\n",
    "from sklearn.model_selection import GridSearchCV"
   ]
  },
  {
   "cell_type": "code",
   "execution_count": 133,
   "metadata": {},
   "outputs": [
    {
     "name": "stdout",
     "output_type": "stream",
     "text": [
      "0.8730703450344617 {'max_depth': 8, 'max_leaf_nodes': 39}\n"
     ]
    }
   ],
   "source": [
    "parameters = {'max_depth':range(6,15), 'max_leaf_nodes' :range(30,40)}\n",
    "clf = GridSearchCV(tree.DecisionTreeRegressor(), parameters, n_jobs=4)\n",
    "clf.fit(X=x, y=y)\n",
    "tree_model = clf.best_estimator_\n",
    "print (clf.best_score_, clf.best_params_)"
   ]
  },
  {
   "cell_type": "markdown",
   "metadata": {},
   "source": [
    "#### Applying the hyperparameters for the final model"
   ]
  },
  {
   "cell_type": "code",
   "execution_count": 134,
   "metadata": {},
   "outputs": [
    {
     "name": "stdout",
     "output_type": "stream",
     "text": [
      "MAE is: 0.21427297315223656\n",
      "RMSE is: 0.28846399395467837\n",
      "R-square is: 0.8808038213056909\n"
     ]
    }
   ],
   "source": [
    "#Decision Tree \n",
    "tr_regressor = DecisionTreeRegressor( max_depth=8 ,max_leaf_nodes=39  ) #loading the decision tree alogorithm\n",
    "tr_regressor.fit(X_train,y_train)    #Fitting the model\n",
    "y_pred = tr_regressor.predict(X_test) #Predicting the y values\n",
    "Y_pred = np.exp(Y_pred)\n",
    "Y_test = np.exp(Y_test)\n",
    "#Printing the MAE,RMSE and R-square values :\n",
    "print ('MAE is:', mean_absolute_error(y_test, y_pred  ))   #Calculating and printing the mean absolute error\n",
    "print ('RMSE is:', sqrt(mean_squared_error(y_test,y_pred  )))  #Calculating and printing the root mean square error\n",
    "print ('R-square is:', r2_score(y_test,y_pred))   #Calculating and printing the R-square value"
   ]
  },
  {
   "cell_type": "code",
   "execution_count": 135,
   "metadata": {},
   "outputs": [
    {
     "name": "stdout",
     "output_type": "stream",
     "text": [
      "The average value obtained in 10-fold cross-validation is :  0.8769365137970746\n",
      "The maximum value obtained in 10-fold cross-validation is :  0.8923683869716745\n"
     ]
    }
   ],
   "source": [
    "# create a KFold object with 10 splits \n",
    "folds = KFold(n_splits = 10, shuffle = True, random_state = 100)       #Split of the dataset\n",
    "score = cross_val_score(tr_regressor, X, y,cv = folds,scoring=\"r2\")\n",
    "print(\"The average value obtained in 10-fold cross-validation is : \", np.mean(score))\n",
    "print(\"The maximum value obtained in 10-fold cross-validation is : \", max(score))"
   ]
  },
  {
   "cell_type": "markdown",
   "metadata": {},
   "source": [
    "### R2 value\n",
    "\n",
    "#### Linear Regression Model-1 = 0.85\n",
    "#### Decision tree Model-1  = 0.88"
   ]
  },
  {
   "cell_type": "markdown",
   "metadata": {},
   "source": [
    "### Validation Dataset"
   ]
  },
  {
   "cell_type": "code",
   "execution_count": 136,
   "metadata": {},
   "outputs": [
    {
     "data": {
      "text/plain": [
       "array([1, 3, 0, 2])"
      ]
     },
     "execution_count": 136,
     "metadata": {},
     "output_type": "execute_result"
    }
   ],
   "source": [
    "# Encode labels in column 'species'.\n",
    "valid['fuel']= label_encoder.fit_transform(valid['fuel'])\n",
    "valid['fuel'].unique()"
   ]
  },
  {
   "cell_type": "code",
   "execution_count": 137,
   "metadata": {},
   "outputs": [
    {
     "data": {
      "text/html": [
       "<div>\n",
       "<style scoped>\n",
       "    .dataframe tbody tr th:only-of-type {\n",
       "        vertical-align: middle;\n",
       "    }\n",
       "\n",
       "    .dataframe tbody tr th {\n",
       "        vertical-align: top;\n",
       "    }\n",
       "\n",
       "    .dataframe thead th {\n",
       "        text-align: right;\n",
       "    }\n",
       "</style>\n",
       "<table border=\"1\" class=\"dataframe\">\n",
       "  <thead>\n",
       "    <tr style=\"text-align: right;\">\n",
       "      <th></th>\n",
       "      <th>name</th>\n",
       "      <th>year</th>\n",
       "      <th>selling_price</th>\n",
       "      <th>km_driven</th>\n",
       "      <th>fuel</th>\n",
       "      <th>seller_type</th>\n",
       "      <th>transmission</th>\n",
       "      <th>owner</th>\n",
       "      <th>mileage</th>\n",
       "      <th>engine</th>\n",
       "      <th>max_power</th>\n",
       "      <th>seats</th>\n",
       "      <th>age</th>\n",
       "    </tr>\n",
       "  </thead>\n",
       "  <tbody>\n",
       "    <tr>\n",
       "      <th>5628</th>\n",
       "      <td>BMW X4 M Sport X xDrive20d</td>\n",
       "      <td>2019</td>\n",
       "      <td>15.501910</td>\n",
       "      <td>8.922658</td>\n",
       "      <td>1</td>\n",
       "      <td>0</td>\n",
       "      <td>0</td>\n",
       "      <td>0</td>\n",
       "      <td>2.820188</td>\n",
       "      <td>7.598399</td>\n",
       "      <td>5.247024</td>\n",
       "      <td>5.0</td>\n",
       "      <td>2</td>\n",
       "    </tr>\n",
       "    <tr>\n",
       "      <th>8124</th>\n",
       "      <td>Hyundai Verna CRDi SX</td>\n",
       "      <td>2007</td>\n",
       "      <td>11.813030</td>\n",
       "      <td>11.686879</td>\n",
       "      <td>1</td>\n",
       "      <td>1</td>\n",
       "      <td>1</td>\n",
       "      <td>1</td>\n",
       "      <td>2.821379</td>\n",
       "      <td>7.308543</td>\n",
       "      <td>4.700480</td>\n",
       "      <td>5.0</td>\n",
       "      <td>14</td>\n",
       "    </tr>\n",
       "    <tr>\n",
       "      <th>4776</th>\n",
       "      <td>Tata Hexa XM</td>\n",
       "      <td>2018</td>\n",
       "      <td>14.077875</td>\n",
       "      <td>10.463103</td>\n",
       "      <td>1</td>\n",
       "      <td>1</td>\n",
       "      <td>1</td>\n",
       "      <td>0</td>\n",
       "      <td>2.867899</td>\n",
       "      <td>7.686621</td>\n",
       "      <td>5.036043</td>\n",
       "      <td>7.0</td>\n",
       "      <td>3</td>\n",
       "    </tr>\n",
       "    <tr>\n",
       "      <th>3197</th>\n",
       "      <td>Tata Indigo CS eVX</td>\n",
       "      <td>2013</td>\n",
       "      <td>12.337097</td>\n",
       "      <td>11.002100</td>\n",
       "      <td>1</td>\n",
       "      <td>1</td>\n",
       "      <td>1</td>\n",
       "      <td>2</td>\n",
       "      <td>3.218876</td>\n",
       "      <td>7.241366</td>\n",
       "      <td>4.234251</td>\n",
       "      <td>5.0</td>\n",
       "      <td>8</td>\n",
       "    </tr>\n",
       "    <tr>\n",
       "      <th>5363</th>\n",
       "      <td>Mahindra Xylo D2 BSIV</td>\n",
       "      <td>2014</td>\n",
       "      <td>12.886641</td>\n",
       "      <td>11.849398</td>\n",
       "      <td>1</td>\n",
       "      <td>1</td>\n",
       "      <td>1</td>\n",
       "      <td>0</td>\n",
       "      <td>2.639057</td>\n",
       "      <td>7.819636</td>\n",
       "      <td>4.553877</td>\n",
       "      <td>8.0</td>\n",
       "      <td>7</td>\n",
       "    </tr>\n",
       "  </tbody>\n",
       "</table>\n",
       "</div>"
      ],
      "text/plain": [
       "                            name  year  selling_price  km_driven  fuel  \\\n",
       "5628  BMW X4 M Sport X xDrive20d  2019      15.501910   8.922658     1   \n",
       "8124       Hyundai Verna CRDi SX  2007      11.813030  11.686879     1   \n",
       "4776                Tata Hexa XM  2018      14.077875  10.463103     1   \n",
       "3197          Tata Indigo CS eVX  2013      12.337097  11.002100     1   \n",
       "5363       Mahindra Xylo D2 BSIV  2014      12.886641  11.849398     1   \n",
       "\n",
       "      seller_type  transmission  owner   mileage    engine  max_power  seats  \\\n",
       "5628            0             0      0  2.820188  7.598399   5.247024    5.0   \n",
       "8124            1             1      1  2.821379  7.308543   4.700480    5.0   \n",
       "4776            1             1      0  2.867899  7.686621   5.036043    7.0   \n",
       "3197            1             1      2  3.218876  7.241366   4.234251    5.0   \n",
       "5363            1             1      0  2.639057  7.819636   4.553877    8.0   \n",
       "\n",
       "      age  \n",
       "5628    2  \n",
       "8124   14  \n",
       "4776    3  \n",
       "3197    8  \n",
       "5363    7  "
      ]
     },
     "execution_count": 137,
     "metadata": {},
     "output_type": "execute_result"
    }
   ],
   "source": [
    "valid['seller_type']= label_encoder.fit_transform(valid['seller_type'])\n",
    "valid['transmission']= label_encoder.fit_transform(valid['transmission'])\n",
    "valid['owner']= label_encoder.fit_transform(valid['owner'])\n",
    "valid.head()"
   ]
  },
  {
   "cell_type": "code",
   "execution_count": 138,
   "metadata": {},
   "outputs": [],
   "source": [
    "#seperating the Predictor from the other features:\n",
    "X = valid[['age','engine','max_power','transmission']]\n",
    "y=valid['selling_price']"
   ]
  },
  {
   "cell_type": "code",
   "execution_count": 139,
   "metadata": {},
   "outputs": [],
   "source": [
    "#Splitting the dataset in the train and test set:\n",
    "X_train, X_test, y_train, y_test = train_test_split(X,y,test_size=0.3, random_state = 7)"
   ]
  },
  {
   "cell_type": "code",
   "execution_count": 140,
   "metadata": {},
   "outputs": [
    {
     "name": "stdout",
     "output_type": "stream",
     "text": [
      "MAE is: 0.2280050741318909\n",
      "RMSE is: 0.31866233417040407\n",
      "R-square is: 0.8363266252965607\n"
     ]
    }
   ],
   "source": [
    "#Decision Tree \n",
    "tr_regressor = DecisionTreeRegressor( max_depth=8 ,max_leaf_nodes=39  ) #loading the decision tree alogorithm\n",
    "tr_regressor.fit(X_train,y_train)    #Fitting the model\n",
    "y_pred = tr_regressor.predict(X_test) #Predicting the y values\n",
    "Y_pred = np.exp(Y_pred)\n",
    "Y_test = np.exp(Y_test)\n",
    "#Printing the MAE,RMSE and R-square values :\n",
    "print ('MAE is:', mean_absolute_error(y_test, y_pred  ))   #Calculating and printing the mean absolute error\n",
    "print ('RMSE is:', sqrt(mean_squared_error(y_test,y_pred  )))  #Calculating and printing the root mean square error\n",
    "print ('R-square is:', r2_score(y_test,y_pred))   #Calculating and printing the R-square value"
   ]
  },
  {
   "cell_type": "code",
   "execution_count": 141,
   "metadata": {},
   "outputs": [
    {
     "name": "stdout",
     "output_type": "stream",
     "text": [
      "The average value obtained in 10-fold cross-validation is :  0.8393532119908699\n",
      "The maximum value obtained in 10-fold cross-validation is :  0.8642789593461037\n"
     ]
    }
   ],
   "source": [
    "# create a KFold object with 10 splits \n",
    "folds = KFold(n_splits = 10, shuffle = True, random_state = 100)       #Split of the dataset\n",
    "score = cross_val_score(tr_regressor, X, y,cv = folds,scoring=\"r2\")\n",
    "print(\"The average value obtained in 10-fold cross-validation is : \", np.mean(score))\n",
    "print(\"The maximum value obtained in 10-fold cross-validation is : \", max(score))"
   ]
  },
  {
   "cell_type": "markdown",
   "metadata": {},
   "source": [
    "### R2 value - Validation\n",
    "\n",
    "#### Linear Regression Model-1 = 0.82\n",
    "#### Decision tree Model-1  = 0.84"
   ]
  },
  {
   "cell_type": "markdown",
   "metadata": {},
   "source": [
    "### Test Dataset"
   ]
  },
  {
   "cell_type": "code",
   "execution_count": 142,
   "metadata": {},
   "outputs": [
    {
     "data": {
      "text/plain": [
       "array([1, 3, 0, 2])"
      ]
     },
     "execution_count": 142,
     "metadata": {},
     "output_type": "execute_result"
    }
   ],
   "source": [
    " \n",
    "# Encode labels in column 'species'.\n",
    "test['fuel']= label_encoder.fit_transform(test['fuel'])\n",
    "test['fuel'].unique()"
   ]
  },
  {
   "cell_type": "code",
   "execution_count": 143,
   "metadata": {},
   "outputs": [
    {
     "data": {
      "text/html": [
       "<div>\n",
       "<style scoped>\n",
       "    .dataframe tbody tr th:only-of-type {\n",
       "        vertical-align: middle;\n",
       "    }\n",
       "\n",
       "    .dataframe tbody tr th {\n",
       "        vertical-align: top;\n",
       "    }\n",
       "\n",
       "    .dataframe thead th {\n",
       "        text-align: right;\n",
       "    }\n",
       "</style>\n",
       "<table border=\"1\" class=\"dataframe\">\n",
       "  <thead>\n",
       "    <tr style=\"text-align: right;\">\n",
       "      <th></th>\n",
       "      <th>name</th>\n",
       "      <th>year</th>\n",
       "      <th>selling_price</th>\n",
       "      <th>km_driven</th>\n",
       "      <th>fuel</th>\n",
       "      <th>seller_type</th>\n",
       "      <th>transmission</th>\n",
       "      <th>owner</th>\n",
       "      <th>mileage</th>\n",
       "      <th>engine</th>\n",
       "      <th>max_power</th>\n",
       "      <th>seats</th>\n",
       "      <th>age</th>\n",
       "    </tr>\n",
       "  </thead>\n",
       "  <tbody>\n",
       "    <tr>\n",
       "      <th>6405</th>\n",
       "      <td>Chevrolet Enjoy 1.3 TCDi LS 8</td>\n",
       "      <td>2016</td>\n",
       "      <td>13.102161</td>\n",
       "      <td>11.289782</td>\n",
       "      <td>1</td>\n",
       "      <td>1</td>\n",
       "      <td>1</td>\n",
       "      <td>0</td>\n",
       "      <td>2.901422</td>\n",
       "      <td>7.129298</td>\n",
       "      <td>4.300545</td>\n",
       "      <td>8.0</td>\n",
       "      <td>5</td>\n",
       "    </tr>\n",
       "    <tr>\n",
       "      <th>1032</th>\n",
       "      <td>Hyundai Verna Transform SX VTVT</td>\n",
       "      <td>2011</td>\n",
       "      <td>12.899220</td>\n",
       "      <td>11.002100</td>\n",
       "      <td>3</td>\n",
       "      <td>1</td>\n",
       "      <td>1</td>\n",
       "      <td>0</td>\n",
       "      <td>2.785011</td>\n",
       "      <td>7.377134</td>\n",
       "      <td>4.636669</td>\n",
       "      <td>5.0</td>\n",
       "      <td>10</td>\n",
       "    </tr>\n",
       "    <tr>\n",
       "      <th>6792</th>\n",
       "      <td>Maruti Alto 800 LXI</td>\n",
       "      <td>2014</td>\n",
       "      <td>12.206073</td>\n",
       "      <td>10.596635</td>\n",
       "      <td>3</td>\n",
       "      <td>1</td>\n",
       "      <td>1</td>\n",
       "      <td>4</td>\n",
       "      <td>3.124125</td>\n",
       "      <td>6.679599</td>\n",
       "      <td>3.856510</td>\n",
       "      <td>5.0</td>\n",
       "      <td>7</td>\n",
       "    </tr>\n",
       "    <tr>\n",
       "      <th>2765</th>\n",
       "      <td>Hyundai Verna 1.6 VTVT S</td>\n",
       "      <td>2015</td>\n",
       "      <td>13.384728</td>\n",
       "      <td>10.596635</td>\n",
       "      <td>3</td>\n",
       "      <td>1</td>\n",
       "      <td>1</td>\n",
       "      <td>0</td>\n",
       "      <td>2.833801</td>\n",
       "      <td>7.372118</td>\n",
       "      <td>4.798267</td>\n",
       "      <td>5.0</td>\n",
       "      <td>6</td>\n",
       "    </tr>\n",
       "    <tr>\n",
       "      <th>1714</th>\n",
       "      <td>Toyota Camry 2.5 Hybrid</td>\n",
       "      <td>2016</td>\n",
       "      <td>14.508658</td>\n",
       "      <td>11.128571</td>\n",
       "      <td>3</td>\n",
       "      <td>2</td>\n",
       "      <td>0</td>\n",
       "      <td>0</td>\n",
       "      <td>2.952825</td>\n",
       "      <td>7.821643</td>\n",
       "      <td>5.060694</td>\n",
       "      <td>5.0</td>\n",
       "      <td>5</td>\n",
       "    </tr>\n",
       "  </tbody>\n",
       "</table>\n",
       "</div>"
      ],
      "text/plain": [
       "                                 name  year  selling_price  km_driven  fuel  \\\n",
       "6405    Chevrolet Enjoy 1.3 TCDi LS 8  2016      13.102161  11.289782     1   \n",
       "1032  Hyundai Verna Transform SX VTVT  2011      12.899220  11.002100     3   \n",
       "6792              Maruti Alto 800 LXI  2014      12.206073  10.596635     3   \n",
       "2765         Hyundai Verna 1.6 VTVT S  2015      13.384728  10.596635     3   \n",
       "1714          Toyota Camry 2.5 Hybrid  2016      14.508658  11.128571     3   \n",
       "\n",
       "      seller_type  transmission  owner   mileage    engine  max_power  seats  \\\n",
       "6405            1             1      0  2.901422  7.129298   4.300545    8.0   \n",
       "1032            1             1      0  2.785011  7.377134   4.636669    5.0   \n",
       "6792            1             1      4  3.124125  6.679599   3.856510    5.0   \n",
       "2765            1             1      0  2.833801  7.372118   4.798267    5.0   \n",
       "1714            2             0      0  2.952825  7.821643   5.060694    5.0   \n",
       "\n",
       "      age  \n",
       "6405    5  \n",
       "1032   10  \n",
       "6792    7  \n",
       "2765    6  \n",
       "1714    5  "
      ]
     },
     "execution_count": 143,
     "metadata": {},
     "output_type": "execute_result"
    }
   ],
   "source": [
    "test['seller_type']= label_encoder.fit_transform(test['seller_type'])\n",
    "test['transmission']= label_encoder.fit_transform(test['transmission'])\n",
    "test['owner']= label_encoder.fit_transform(test['owner'])\n",
    "test.head()"
   ]
  },
  {
   "cell_type": "code",
   "execution_count": 144,
   "metadata": {},
   "outputs": [],
   "source": [
    "#seperating the Predictor from the other features:\n",
    "X = test[['age','engine','max_power','transmission']]\n",
    "y=test['selling_price']"
   ]
  },
  {
   "cell_type": "code",
   "execution_count": 145,
   "metadata": {},
   "outputs": [],
   "source": [
    "#Splitting the dataset in the train and test set:\n",
    "X_train, X_test, y_train, y_test = train_test_split(X,y,test_size=0.3, random_state = 7)"
   ]
  },
  {
   "cell_type": "code",
   "execution_count": 146,
   "metadata": {},
   "outputs": [
    {
     "name": "stdout",
     "output_type": "stream",
     "text": [
      "MAE is: 0.23374119214164274\n",
      "RMSE is: 0.33879133568452685\n",
      "R-square is: 0.8490656365001344\n"
     ]
    }
   ],
   "source": [
    "#Decision Tree \n",
    "tr_regressor = DecisionTreeRegressor( max_depth=8 ,max_leaf_nodes=39  ) #loading the decision tree alogorithm\n",
    "tr_regressor.fit(X_train,y_train)    #Fitting the model\n",
    "y_pred = tr_regressor.predict(X_test) #Predicting the y values\n",
    "Y_pred = np.exp(Y_pred)\n",
    "Y_test = np.exp(Y_test)\n",
    "#Printing the MAE,RMSE and R-square values :\n",
    "print ('MAE is:', mean_absolute_error(y_test, y_pred  ))   #Calculating and printing the mean absolute error\n",
    "print ('RMSE is:', sqrt(mean_squared_error(y_test,y_pred  )))  #Calculating and printing the root mean square error\n",
    "print ('R-square is:', r2_score(y_test,y_pred))   #Calculating and printing the R-square value"
   ]
  },
  {
   "cell_type": "code",
   "execution_count": 147,
   "metadata": {},
   "outputs": [
    {
     "name": "stdout",
     "output_type": "stream",
     "text": [
      "The average value obtained in 10-fold cross-validation is :  0.8621226543243997\n",
      "The maximum value obtained in 10-fold cross-validation is :  0.895061590203577\n"
     ]
    }
   ],
   "source": [
    "# create a KFold object with 10 splits \n",
    "folds = KFold(n_splits = 10, shuffle = True, random_state = 100)       #Split of the dataset\n",
    "score = cross_val_score(tr_regressor, X, y,cv = folds,scoring=\"r2\")\n",
    "print(\"The average value obtained in 10-fold cross-validation is : \", np.mean(score))\n",
    "print(\"The maximum value obtained in 10-fold cross-validation is : \", max(score))"
   ]
  },
  {
   "cell_type": "markdown",
   "metadata": {},
   "source": [
    "### R2 value - Test daatset\n",
    "\n",
    "#### Linear Regression Model-1 =  0.85\n",
    "#### Decision tree Model-1  = 0.86"
   ]
  },
  {
   "cell_type": "markdown",
   "metadata": {},
   "source": [
    "From the results we achieved, we can conclude the both the models are equally competant in predicting the model. However the decision tree is prone to over fit while fitting the model which can be eliminated in the linear regression model much easily.\n"
   ]
  },
  {
   "cell_type": "markdown",
   "metadata": {},
   "source": [
    "Both the models have performed well in the test, train and validation dataset with a accuracy of 84% to 86% which proves there is no effet of Bias or Variance in the model"
   ]
  },
  {
   "cell_type": "code",
   "execution_count": null,
   "metadata": {},
   "outputs": [],
   "source": []
  }
 ],
 "metadata": {
  "kernelspec": {
   "display_name": "Python 3",
   "language": "python",
   "name": "python3"
  },
  "language_info": {
   "codemirror_mode": {
    "name": "ipython",
    "version": 3
   },
   "file_extension": ".py",
   "mimetype": "text/x-python",
   "name": "python",
   "nbconvert_exporter": "python",
   "pygments_lexer": "ipython3",
   "version": "3.8.5"
  }
 },
 "nbformat": 4,
 "nbformat_minor": 4
}
